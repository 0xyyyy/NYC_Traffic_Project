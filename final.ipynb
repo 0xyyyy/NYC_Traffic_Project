{
 "metadata": {
  "language_info": {
   "codemirror_mode": {
    "name": "ipython",
    "version": 3
   },
   "file_extension": ".py",
   "mimetype": "text/x-python",
   "name": "python",
   "nbconvert_exporter": "python",
   "pygments_lexer": "ipython3",
   "version": "3.7.4-final"
  },
  "orig_nbformat": 2,
  "kernelspec": {
   "name": "python_defaultSpec_1600725335303",
   "display_name": "Python 3.7.4 64-bit ('base': conda)"
  }
 },
 "nbformat": 4,
 "nbformat_minor": 2,
 "cells": [
  {
   "cell_type": "code",
   "execution_count": 3,
   "metadata": {},
   "outputs": [],
   "source": [
    "import pandas as pd \n",
    "import requests\n",
    "from pprint import pprint\n",
    "import time \n",
    "# from api_key import api_key\n",
    "import sqlite3\n",
    "import datetime"
   ]
  },
  {
   "cell_type": "code",
   "execution_count": 4,
   "metadata": {},
   "outputs": [],
   "source": [
    "#Load in CSV\n",
    "df = pd.read_csv(\"nyc_traffic_data_2019.csv\")"
   ]
  },
  {
   "cell_type": "code",
   "execution_count": 5,
   "metadata": {
    "tags": []
   },
   "outputs": [
    {
     "output_type": "stream",
     "name": "stdout",
     "text": "<class 'pandas.core.frame.DataFrame'>\nRangeIndex: 5841 entries, 0 to 5840\nData columns (total 37 columns):\n #   Column         Non-Null Count  Dtype  \n---  ------         --------------  -----  \n 0   Unnamed: 0     5841 non-null   int64  \n 1   ID             5841 non-null   int64  \n 2   Segment_ID     5841 non-null   int64  \n 3   Roadway_Name   5841 non-null   object \n 4   From           5841 non-null   object \n 5   To             5841 non-null   object \n 6   Direction      5841 non-null   object \n 7   Date           5841 non-null   object \n 8   12:00-1:00 AM  5841 non-null   float64\n 9   1:00-2:00AM    5841 non-null   float64\n 10  2:00-3:00AM    5841 non-null   float64\n 11  3:00-4:00AM    5841 non-null   float64\n 12  4:00-5:00AM    5841 non-null   float64\n 13  5:00-6:00AM    5841 non-null   float64\n 14  6:00-7:00AM    5841 non-null   float64\n 15  7:00-8:00AM    5841 non-null   float64\n 16  8:00-9:00AM    5841 non-null   float64\n 17  9:00-10:00AM   5841 non-null   float64\n 18  10:00-11:00AM  5841 non-null   float64\n 19  11:00-12:00PM  5841 non-null   float64\n 20  12:00-1:00PM   5841 non-null   int64  \n 21  1:00-2:00PM    5841 non-null   int64  \n 22  2:00-3:00PM    5841 non-null   int64  \n 23  3:00-4:00PM    5841 non-null   int64  \n 24  4:00-5:00PM    5841 non-null   int64  \n 25  5:00-6:00PM    5841 non-null   int64  \n 26  6:00-7:00PM    5841 non-null   int64  \n 27  7:00-8:00PM    5841 non-null   int64  \n 28  8:00-9:00PM    5841 non-null   int64  \n 29  9:00-10:00PM   5841 non-null   int64  \n 30  10:00-11:00PM  5841 non-null   int64  \n 31  11:00-12:00AM  5841 non-null   int64  \n 32  latitude       5841 non-null   object \n 33  longitude      5841 non-null   float64\n 34  Month          5841 non-null   int64  \n 35  Day            5841 non-null   int64  \n 36  Year           5841 non-null   int64  \ndtypes: float64(13), int64(18), object(6)\nmemory usage: 1.6+ MB\n"
    }
   ],
   "source": [
    "#Look at info \n",
    "df.info()"
   ]
  },
  {
   "cell_type": "code",
   "execution_count": 6,
   "metadata": {},
   "outputs": [],
   "source": [
    "#Recast date object as a datetime object \n",
    "df[\"Date\"] = pd.to_datetime(df[\"Date\"])"
   ]
  },
  {
   "cell_type": "code",
   "execution_count": 7,
   "metadata": {},
   "outputs": [
    {
     "output_type": "execute_result",
     "data": {
      "text/plain": "0   2019-10-06\n1   2019-10-07\n2   2019-10-08\n3   2019-10-09\n4   2019-10-10\nName: Date, dtype: datetime64[ns]"
     },
     "metadata": {},
     "execution_count": 7
    }
   ],
   "source": [
    "df[\"Date\"].head()"
   ]
  },
  {
   "cell_type": "code",
   "execution_count": 8,
   "metadata": {},
   "outputs": [],
   "source": [
    "#Look only at November \n",
    "mask = (df['Date'] > '2019-10-01') & (df['Date'] <= '2019-10-31')\n",
    "october_df = df.loc[mask]"
   ]
  },
  {
   "cell_type": "code",
   "execution_count": 9,
   "metadata": {},
   "outputs": [
    {
     "output_type": "execute_result",
     "data": {
      "text/plain": "   Unnamed: 0  ID  Segment_ID Roadway_Name    From      To Direction  \\\n0         793  38      130569       32+Ave   86+St   Alley        WB   \n1        1494  38      130569       32+Ave   86+St   Alley        WB   \n2        2006  38      130569       32+Ave   86+St   Alley        WB   \n3        2616  38      130569       32+Ave   86+St   Alley        WB   \n4        2940  38      130569       32+Ave   86+St   Alley        WB   \n5        3071  38      130569       32+Ave   86+St   Alley        WB   \n6        3362  38      130569       32+Ave   86+St   Alley        WB   \n7        3849  38      130569       32+Ave   86+St   Alley        WB   \n8        4203  85       56878   Archer+Ave  143+St  144+Pl        EB   \n9        4558  85       56878   Archer+Ave  143+St  144+Pl        EB   \n\n        Date  12:00-1:00 AM  1:00-2:00AM  ...  7:00-8:00PM  8:00-9:00PM  \\\n0 2019-10-06          127.0        114.0  ...          187          133   \n1 2019-10-07           68.0         40.0  ...          197          167   \n2 2019-10-08           83.0         42.0  ...          188          171   \n3 2019-10-09           57.0         39.0  ...          346          160   \n4 2019-10-10           72.0         45.0  ...          288          176   \n5 2019-10-11           74.0         76.0  ...          292          273   \n6 2019-10-12          133.0         83.0  ...          197          152   \n7 2019-10-13          146.0        125.0  ...          216          175   \n8 2019-10-10          108.0         50.0  ...          182          188   \n9 2019-10-11          116.0         74.0  ...          207          181   \n\n   9:00-10:00PM  10:00-11:00PM  11:00-12:00AM    latitude  longitude  Month  \\\n0           123            126             73  40.7580867 -73.882022     10   \n1           117            102             79  40.7580867 -73.882022     10   \n2           127            100             93  40.7580867 -73.882022     10   \n3            97            117             96  40.7580867 -73.882022     10   \n4           161            101            103  40.7580867 -73.882022     10   \n5           211            166            195  40.7580867 -73.882022     10   \n6           162            171            144  40.7580867 -73.882022     10   \n7           138            124             84  40.7580867 -73.882022     10   \n8           229            203            148  40.6995881 -73.810606     10   \n9           218            197            163  40.6995881 -73.810606     10   \n\n   Day  Year  \n0    6  2019  \n1    7  2019  \n2    8  2019  \n3    9  2019  \n4   10  2019  \n5   11  2019  \n6   12  2019  \n7   13  2019  \n8   10  2019  \n9   11  2019  \n\n[10 rows x 37 columns]",
      "text/html": "<div>\n<style scoped>\n    .dataframe tbody tr th:only-of-type {\n        vertical-align: middle;\n    }\n\n    .dataframe tbody tr th {\n        vertical-align: top;\n    }\n\n    .dataframe thead th {\n        text-align: right;\n    }\n</style>\n<table border=\"1\" class=\"dataframe\">\n  <thead>\n    <tr style=\"text-align: right;\">\n      <th></th>\n      <th>Unnamed: 0</th>\n      <th>ID</th>\n      <th>Segment_ID</th>\n      <th>Roadway_Name</th>\n      <th>From</th>\n      <th>To</th>\n      <th>Direction</th>\n      <th>Date</th>\n      <th>12:00-1:00 AM</th>\n      <th>1:00-2:00AM</th>\n      <th>...</th>\n      <th>7:00-8:00PM</th>\n      <th>8:00-9:00PM</th>\n      <th>9:00-10:00PM</th>\n      <th>10:00-11:00PM</th>\n      <th>11:00-12:00AM</th>\n      <th>latitude</th>\n      <th>longitude</th>\n      <th>Month</th>\n      <th>Day</th>\n      <th>Year</th>\n    </tr>\n  </thead>\n  <tbody>\n    <tr>\n      <th>0</th>\n      <td>793</td>\n      <td>38</td>\n      <td>130569</td>\n      <td>32+Ave</td>\n      <td>86+St</td>\n      <td>Alley</td>\n      <td>WB</td>\n      <td>2019-10-06</td>\n      <td>127.0</td>\n      <td>114.0</td>\n      <td>...</td>\n      <td>187</td>\n      <td>133</td>\n      <td>123</td>\n      <td>126</td>\n      <td>73</td>\n      <td>40.7580867</td>\n      <td>-73.882022</td>\n      <td>10</td>\n      <td>6</td>\n      <td>2019</td>\n    </tr>\n    <tr>\n      <th>1</th>\n      <td>1494</td>\n      <td>38</td>\n      <td>130569</td>\n      <td>32+Ave</td>\n      <td>86+St</td>\n      <td>Alley</td>\n      <td>WB</td>\n      <td>2019-10-07</td>\n      <td>68.0</td>\n      <td>40.0</td>\n      <td>...</td>\n      <td>197</td>\n      <td>167</td>\n      <td>117</td>\n      <td>102</td>\n      <td>79</td>\n      <td>40.7580867</td>\n      <td>-73.882022</td>\n      <td>10</td>\n      <td>7</td>\n      <td>2019</td>\n    </tr>\n    <tr>\n      <th>2</th>\n      <td>2006</td>\n      <td>38</td>\n      <td>130569</td>\n      <td>32+Ave</td>\n      <td>86+St</td>\n      <td>Alley</td>\n      <td>WB</td>\n      <td>2019-10-08</td>\n      <td>83.0</td>\n      <td>42.0</td>\n      <td>...</td>\n      <td>188</td>\n      <td>171</td>\n      <td>127</td>\n      <td>100</td>\n      <td>93</td>\n      <td>40.7580867</td>\n      <td>-73.882022</td>\n      <td>10</td>\n      <td>8</td>\n      <td>2019</td>\n    </tr>\n    <tr>\n      <th>3</th>\n      <td>2616</td>\n      <td>38</td>\n      <td>130569</td>\n      <td>32+Ave</td>\n      <td>86+St</td>\n      <td>Alley</td>\n      <td>WB</td>\n      <td>2019-10-09</td>\n      <td>57.0</td>\n      <td>39.0</td>\n      <td>...</td>\n      <td>346</td>\n      <td>160</td>\n      <td>97</td>\n      <td>117</td>\n      <td>96</td>\n      <td>40.7580867</td>\n      <td>-73.882022</td>\n      <td>10</td>\n      <td>9</td>\n      <td>2019</td>\n    </tr>\n    <tr>\n      <th>4</th>\n      <td>2940</td>\n      <td>38</td>\n      <td>130569</td>\n      <td>32+Ave</td>\n      <td>86+St</td>\n      <td>Alley</td>\n      <td>WB</td>\n      <td>2019-10-10</td>\n      <td>72.0</td>\n      <td>45.0</td>\n      <td>...</td>\n      <td>288</td>\n      <td>176</td>\n      <td>161</td>\n      <td>101</td>\n      <td>103</td>\n      <td>40.7580867</td>\n      <td>-73.882022</td>\n      <td>10</td>\n      <td>10</td>\n      <td>2019</td>\n    </tr>\n    <tr>\n      <th>5</th>\n      <td>3071</td>\n      <td>38</td>\n      <td>130569</td>\n      <td>32+Ave</td>\n      <td>86+St</td>\n      <td>Alley</td>\n      <td>WB</td>\n      <td>2019-10-11</td>\n      <td>74.0</td>\n      <td>76.0</td>\n      <td>...</td>\n      <td>292</td>\n      <td>273</td>\n      <td>211</td>\n      <td>166</td>\n      <td>195</td>\n      <td>40.7580867</td>\n      <td>-73.882022</td>\n      <td>10</td>\n      <td>11</td>\n      <td>2019</td>\n    </tr>\n    <tr>\n      <th>6</th>\n      <td>3362</td>\n      <td>38</td>\n      <td>130569</td>\n      <td>32+Ave</td>\n      <td>86+St</td>\n      <td>Alley</td>\n      <td>WB</td>\n      <td>2019-10-12</td>\n      <td>133.0</td>\n      <td>83.0</td>\n      <td>...</td>\n      <td>197</td>\n      <td>152</td>\n      <td>162</td>\n      <td>171</td>\n      <td>144</td>\n      <td>40.7580867</td>\n      <td>-73.882022</td>\n      <td>10</td>\n      <td>12</td>\n      <td>2019</td>\n    </tr>\n    <tr>\n      <th>7</th>\n      <td>3849</td>\n      <td>38</td>\n      <td>130569</td>\n      <td>32+Ave</td>\n      <td>86+St</td>\n      <td>Alley</td>\n      <td>WB</td>\n      <td>2019-10-13</td>\n      <td>146.0</td>\n      <td>125.0</td>\n      <td>...</td>\n      <td>216</td>\n      <td>175</td>\n      <td>138</td>\n      <td>124</td>\n      <td>84</td>\n      <td>40.7580867</td>\n      <td>-73.882022</td>\n      <td>10</td>\n      <td>13</td>\n      <td>2019</td>\n    </tr>\n    <tr>\n      <th>8</th>\n      <td>4203</td>\n      <td>85</td>\n      <td>56878</td>\n      <td>Archer+Ave</td>\n      <td>143+St</td>\n      <td>144+Pl</td>\n      <td>EB</td>\n      <td>2019-10-10</td>\n      <td>108.0</td>\n      <td>50.0</td>\n      <td>...</td>\n      <td>182</td>\n      <td>188</td>\n      <td>229</td>\n      <td>203</td>\n      <td>148</td>\n      <td>40.6995881</td>\n      <td>-73.810606</td>\n      <td>10</td>\n      <td>10</td>\n      <td>2019</td>\n    </tr>\n    <tr>\n      <th>9</th>\n      <td>4558</td>\n      <td>85</td>\n      <td>56878</td>\n      <td>Archer+Ave</td>\n      <td>143+St</td>\n      <td>144+Pl</td>\n      <td>EB</td>\n      <td>2019-10-11</td>\n      <td>116.0</td>\n      <td>74.0</td>\n      <td>...</td>\n      <td>207</td>\n      <td>181</td>\n      <td>218</td>\n      <td>197</td>\n      <td>163</td>\n      <td>40.6995881</td>\n      <td>-73.810606</td>\n      <td>10</td>\n      <td>11</td>\n      <td>2019</td>\n    </tr>\n  </tbody>\n</table>\n<p>10 rows × 37 columns</p>\n</div>"
     },
     "metadata": {},
     "execution_count": 9
    }
   ],
   "source": [
    "#Check dataframe\n",
    "october_df.head(10)"
   ]
  },
  {
   "cell_type": "code",
   "execution_count": 10,
   "metadata": {},
   "outputs": [],
   "source": [
    "#Create daily total count: \n",
    "october_df[\"daily_total\"] = df.iloc[:, 7:31].sum(axis=1)"
   ]
  },
  {
   "cell_type": "code",
   "execution_count": 13,
   "metadata": {},
   "outputs": [],
   "source": [
    "totals = october_df.groupby(\"Segment_ID\").sum()"
   ]
  },
  {
   "cell_type": "code",
   "execution_count": 17,
   "metadata": {},
   "outputs": [],
   "source": [
    "totals.reset_index(inplace=True)"
   ]
  },
  {
   "cell_type": "code",
   "execution_count": 22,
   "metadata": {},
   "outputs": [],
   "source": [
    "#Find top 10 intersections in october \n",
    "tp10 = totals.nlargest(10, [\"daily_total\"])"
   ]
  },
  {
   "cell_type": "code",
   "execution_count": 26,
   "metadata": {},
   "outputs": [],
   "source": [
    "tp10_dict = dict(zip(tp10.Segment_ID, tp10.daily_total))"
   ]
  },
  {
   "cell_type": "code",
   "execution_count": 27,
   "metadata": {},
   "outputs": [
    {
     "output_type": "execute_result",
     "data": {
      "text/plain": "{158938: 550750.0,\n 64059: 346751.0,\n 32329: 337027.0,\n 9009697: 328747.0,\n 143526: 313441.0,\n 249813: 310638.0,\n 28973: 310330.0,\n 22096: 303341.0,\n 229411: 302821.0,\n 36112: 302136.0}"
     },
     "metadata": {},
     "execution_count": 27
    }
   ],
   "source": [
    "tp10_dict"
   ]
  },
  {
   "cell_type": "code",
   "execution_count": 30,
   "metadata": {},
   "outputs": [],
   "source": [
    "intersection_list = []\n",
    "for key in tp10_dict:\n",
    "    a = df.loc[df[\"Segment_ID\"] == key]\n",
    "    intersection_list.append(a[\"latitude\"])\n",
    "    intersection_list.append(a[\"longitude\"])"
   ]
  },
  {
   "cell_type": "code",
   "execution_count": 31,
   "metadata": {},
   "outputs": [
    {
     "output_type": "execute_result",
     "data": {
      "text/plain": "[5652    40.7755364\n 5653    40.7755364\n 5654    40.7755364\n 5655    40.7755364\n 5656    40.7755364\n 5657    40.7755364\n 5658    40.7755364\n 5659    40.7755364\n 5660    40.7755364\n 5661    40.7755364\n 5662    40.7755364\n 5663    40.7755364\n 5664    40.7755364\n 5665    40.7755364\n 5666    40.7755364\n 5667    40.7755364\n 5668    40.7755364\n 5669    40.7755364\n Name: latitude, dtype: object,\n 5652   -73.991474\n 5653   -73.991474\n 5654   -73.991474\n 5655   -73.991474\n 5656   -73.991474\n 5657   -73.991474\n 5658   -73.991474\n 5659   -73.991474\n 5660   -73.991474\n 5661   -73.991474\n 5662   -73.991474\n 5663   -73.991474\n 5664   -73.991474\n 5665   -73.991474\n 5666   -73.991474\n 5667   -73.991474\n 5668   -73.991474\n 5669   -73.991474\n Name: longitude, dtype: float64,\n 4995    40.66555820000001\n 4996    40.66555820000001\n 4997    40.66555820000001\n 4998    40.66555820000001\n 4999    40.66555820000001\n 5000    40.66555820000001\n 5001    40.66555820000001\n 5002    40.66555820000001\n 5003    40.66555820000001\n Name: latitude, dtype: object,\n 4995   -73.729787\n 4996   -73.729787\n 4997   -73.729787\n 4998   -73.729787\n 4999   -73.729787\n 5000   -73.729787\n 5001   -73.729787\n 5002   -73.729787\n 5003   -73.729787\n Name: longitude, dtype: float64,\n 2151    40.7184369\n 2152    40.7184369\n 2153    40.7184369\n 2154    40.7184369\n 2155    40.7184369\n 2156    40.7184369\n 2157    40.7184369\n 2158    40.7184369\n 2159    40.7184369\n 2160    40.7184369\n 2161    40.7184369\n 2162    40.7184369\n 2163    40.7184369\n 2164    40.7184369\n 2165    40.7184369\n 2166    40.7184369\n 2167    40.7184369\n 2168    40.7184369\n Name: latitude, dtype: object,\n 2151   -74.000535\n 2152   -74.000535\n 2153   -74.000535\n 2154   -74.000535\n 2155   -74.000535\n 2156   -74.000535\n 2157   -74.000535\n 2158   -74.000535\n 2159   -74.000535\n 2160   -74.000535\n 2161   -74.000535\n 2162   -74.000535\n 2163   -74.000535\n 2164   -74.000535\n 2165   -74.000535\n 2166   -74.000535\n 2167   -74.000535\n 2168   -74.000535\n Name: longitude, dtype: float64,\n 4860    40.6743114\n 4861    40.6743114\n 4862    40.6743114\n 4863    40.6743114\n 4864    40.6743114\n 4865    40.6743114\n 4866    40.6743114\n 4867    40.6743114\n 4868    40.6743114\n Name: latitude, dtype: object,\n 4860   -73.801369\n 4861   -73.801369\n 4862   -73.801369\n 4863   -73.801369\n 4864   -73.801369\n 4865   -73.801369\n 4866   -73.801369\n 4867   -73.801369\n 4868   -73.801369\n Name: longitude, dtype: float64,\n 5634    40.7375736\n 5635    40.7375736\n 5636    40.7375736\n 5637    40.7375736\n 5638    40.7375736\n 5639    40.7375736\n 5640    40.7375736\n 5641    40.7375736\n 5642    40.7375736\n Name: latitude, dtype: object,\n 5634   -74.009815\n 5635   -74.009815\n 5636   -74.009815\n 5637   -74.009815\n 5638   -74.009815\n 5639   -74.009815\n 5640   -74.009815\n 5641   -74.009815\n 5642   -74.009815\n Name: longitude, dtype: float64,\n 4869    40.6379863\n 4870    40.6379863\n 4871    40.6379863\n 4872    40.6379863\n 4873    40.6379863\n 4874    40.6379863\n 4875    40.6379863\n 4876    40.6379863\n 4877    40.6379863\n Name: latitude, dtype: object,\n 4869   -73.741156\n 4870   -73.741156\n 4871   -73.741156\n 4872   -73.741156\n 4873   -73.741156\n 4874   -73.741156\n 4875   -73.741156\n 4876   -73.741156\n 4877   -73.741156\n Name: longitude, dtype: float64,\n 3015    40.6608941\n 3016    40.6608941\n 3017    40.6608941\n 3018    40.6608941\n 3019    40.6608941\n 3020    40.6608941\n 3021    40.6608941\n 3022    40.6608941\n 3023    40.6608941\n 3024    40.6608941\n 3025    40.6608941\n 3026    40.6608941\n 3027    40.6608941\n 3028    40.6608941\n 3029    40.6608941\n 3030    40.6608941\n 3031    40.6608941\n 3032    40.6608941\n Name: latitude, dtype: object,\n 3015   -73.962123\n 3016   -73.962123\n 3017   -73.962123\n 3018   -73.962123\n 3019   -73.962123\n 3020   -73.962123\n 3021   -73.962123\n 3022   -73.962123\n 3023   -73.962123\n 3024   -73.962123\n 3025   -73.962123\n 3026   -73.962123\n 3027   -73.962123\n 3028   -73.962123\n 3029   -73.962123\n 3030   -73.962123\n 3031   -73.962123\n 3032   -73.962123\n Name: longitude, dtype: float64,\n 3357    40.6748361\n 3358    40.6748361\n 3359    40.6748361\n 3360    40.6748361\n 3361    40.6748361\n 3362    40.6748361\n 3363    40.6748361\n 3364    40.6748361\n 3365    40.6748361\n Name: latitude, dtype: object,\n 3357   -74.000681\n 3358   -74.000681\n 3359   -74.000681\n 3360   -74.000681\n 3361   -74.000681\n 3362   -74.000681\n 3363   -74.000681\n 3364   -74.000681\n 3365   -74.000681\n Name: longitude, dtype: float64,\n 5670    40.7171204\n 5671    40.7171204\n 5672    40.7171204\n 5673    40.7171204\n 5674    40.7171204\n 5675    40.7171204\n 5676    40.7171204\n 5677    40.7171204\n 5678    40.7171204\n Name: latitude, dtype: object,\n 5670   -74.012766\n 5671   -74.012766\n 5672   -74.012766\n 5673   -74.012766\n 5674   -74.012766\n 5675   -74.012766\n 5676   -74.012766\n 5677   -74.012766\n 5678   -74.012766\n Name: longitude, dtype: float64,\n 272    40.752367\n 273    40.752367\n 274    40.752367\n 275    40.752367\n 276    40.752367\n 277    40.752367\n 278    40.752367\n 279    40.752367\n 280    40.752367\n Name: latitude, dtype: object,\n 272   -73.970335\n 273   -73.970335\n 274   -73.970335\n 275   -73.970335\n 276   -73.970335\n 277   -73.970335\n 278   -73.970335\n 279   -73.970335\n 280   -73.970335\n Name: longitude, dtype: float64]"
     },
     "metadata": {},
     "execution_count": 31
    }
   ],
   "source": [
    "intersection_list"
   ]
  },
  {
   "cell_type": "code",
   "execution_count": null,
   "metadata": {},
   "outputs": [],
   "source": []
  }
 ]
}