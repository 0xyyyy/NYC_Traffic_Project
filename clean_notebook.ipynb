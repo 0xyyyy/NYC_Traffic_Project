{
 "metadata": {
  "language_info": {
   "codemirror_mode": {
    "name": "ipython",
    "version": 3
   },
   "file_extension": ".py",
   "mimetype": "text/x-python",
   "name": "python",
   "nbconvert_exporter": "python",
   "pygments_lexer": "ipython3",
   "version": "3.7.4-final"
  },
  "orig_nbformat": 2,
  "kernelspec": {
   "name": "python_defaultSpec_1599599942037",
   "display_name": "Python 3.7.4 64-bit ('base': conda)"
  }
 },
 "nbformat": 4,
 "nbformat_minor": 2,
 "cells": [
  {
   "cell_type": "code",
   "execution_count": 1,
   "metadata": {},
   "outputs": [],
   "source": [
    "import pandas as pd \n",
    "import requests\n",
    "from pprint import pprint\n",
    "import time \n",
    "# from api_key import api_key\n",
    "import sqlite3"
   ]
  },
  {
   "cell_type": "code",
   "execution_count": 2,
   "metadata": {},
   "outputs": [],
   "source": [
    "clean_df = pd.read_csv(\"nyc_traffic_data_2019.csv\")"
   ]
  },
  {
   "cell_type": "code",
   "execution_count": 20,
   "metadata": {},
   "outputs": [
    {
     "output_type": "execute_result",
     "data": {
      "text/plain": "    Unnamed: 0  ID  Segment_ID Roadway_Name    From        To Direction  \\\n26       17477  26      116269       225+St  114+Rd  Dead+End        NB   \n27       17896  26      116269       225+St  114+Rd  Dead+End        NB   \n28       17928  26      116269       225+St  114+Rd  Dead+End        NB   \n29       17961  26      116269       225+St  114+Rd  Dead+End        NB   \n30       18089  26      116269       225+St  114+Rd  Dead+End        NB   \n31       18154  26      116269       225+St  114+Rd  Dead+End        NB   \n32       18511  26      116269       225+St  114+Rd  Dead+End        NB   \n33       18608  26      116269       225+St  114+Rd  Dead+End        NB   \n34       19152  26      116269       225+St  114+Rd  Dead+End        NB   \n35       19248  26      116269       225+St  114+Rd  Dead+End        SB   \n36       19312  26      116269       225+St  114+Rd  Dead+End        SB   \n37       19408  26      116269       225+St  114+Rd  Dead+End        SB   \n38       19441  26      116269       225+St  114+Rd  Dead+End        SB   \n39       19473  26      116269       225+St  114+Rd  Dead+End        SB   \n40       19634  26      116269       225+St  114+Rd  Dead+End        SB   \n41       19699  26      116269       225+St  114+Rd  Dead+End        SB   \n42       19892  26      116269       225+St  114+Rd  Dead+End        SB   \n43       20214  26      116269       225+St  114+Rd  Dead+End        SB   \n\n          Date  12:00-1:00 AM  1:00-2:00AM  ...  8:00-9:00PM  9:00-10:00PM  \\\n26   10/5/2019            5.0          5.0  ...           12             7   \n27   10/6/2019            1.0          4.0  ...            7             4   \n28   10/7/2019            3.0          3.0  ...            7             8   \n29   10/8/2019            1.0          0.0  ...           13             8   \n30   10/9/2019            3.0          2.0  ...            7            10   \n31  10/10/2019            4.0          2.0  ...           18             8   \n32  10/11/2019            5.0          2.0  ...           11             8   \n33  10/12/2019            5.0          4.0  ...            3             4   \n34  10/13/2019            4.0          3.0  ...            8             8   \n35   10/5/2019            5.0          6.0  ...           18             6   \n36   10/6/2019           11.0          5.0  ...           10             4   \n37   10/7/2019            9.0          6.0  ...           13             6   \n38   10/8/2019            7.0          2.0  ...            7            10   \n39   10/9/2019            3.0          2.0  ...           11             9   \n40  10/10/2019            4.0          4.0  ...           28             9   \n41  10/11/2019            6.0          3.0  ...           17            19   \n42  10/12/2019            6.0          4.0  ...           18            12   \n43  10/13/2019           10.0          6.0  ...           15             9   \n\n    10:00-11:00PM  11:00-12:00AM   latitude  longitude  Month  Day  Year  \\\n26              5              8  40.700963 -73.732432     10    5  2019   \n27             13              7  40.700963 -73.732432     10    6  2019   \n28              4              6  40.700963 -73.732432     10    7  2019   \n29             12              4  40.700963 -73.732432     10    8  2019   \n30              8              7  40.700963 -73.732432     10    9  2019   \n31             11              7  40.700963 -73.732432     10   10  2019   \n32              5              5  40.700963 -73.732432     10   11  2019   \n33              5              6  40.700963 -73.732432     10   12  2019   \n34             11              5  40.700963 -73.732432     10   13  2019   \n35              7              5  40.700963 -73.732432     10    5  2019   \n36              3              3  40.700963 -73.732432     10    6  2019   \n37             13              5  40.700963 -73.732432     10    7  2019   \n38              8              8  40.700963 -73.732432     10    8  2019   \n39              7              7  40.700963 -73.732432     10    9  2019   \n40             12              7  40.700963 -73.732432     10   10  2019   \n41              4              6  40.700963 -73.732432     10   11  2019   \n42              7             14  40.700963 -73.732432     10   12  2019   \n43              8              8  40.700963 -73.732432     10   13  2019   \n\n     Intersection  \n26  225+St+114+Rd  \n27  225+St+114+Rd  \n28  225+St+114+Rd  \n29  225+St+114+Rd  \n30  225+St+114+Rd  \n31  225+St+114+Rd  \n32  225+St+114+Rd  \n33  225+St+114+Rd  \n34  225+St+114+Rd  \n35  225+St+114+Rd  \n36  225+St+114+Rd  \n37  225+St+114+Rd  \n38  225+St+114+Rd  \n39  225+St+114+Rd  \n40  225+St+114+Rd  \n41  225+St+114+Rd  \n42  225+St+114+Rd  \n43  225+St+114+Rd  \n\n[18 rows x 38 columns]",
      "text/html": "<div>\n<style scoped>\n    .dataframe tbody tr th:only-of-type {\n        vertical-align: middle;\n    }\n\n    .dataframe tbody tr th {\n        vertical-align: top;\n    }\n\n    .dataframe thead th {\n        text-align: right;\n    }\n</style>\n<table border=\"1\" class=\"dataframe\">\n  <thead>\n    <tr style=\"text-align: right;\">\n      <th></th>\n      <th>Unnamed: 0</th>\n      <th>ID</th>\n      <th>Segment_ID</th>\n      <th>Roadway_Name</th>\n      <th>From</th>\n      <th>To</th>\n      <th>Direction</th>\n      <th>Date</th>\n      <th>12:00-1:00 AM</th>\n      <th>1:00-2:00AM</th>\n      <th>...</th>\n      <th>8:00-9:00PM</th>\n      <th>9:00-10:00PM</th>\n      <th>10:00-11:00PM</th>\n      <th>11:00-12:00AM</th>\n      <th>latitude</th>\n      <th>longitude</th>\n      <th>Month</th>\n      <th>Day</th>\n      <th>Year</th>\n      <th>Intersection</th>\n    </tr>\n  </thead>\n  <tbody>\n    <tr>\n      <th>26</th>\n      <td>17477</td>\n      <td>26</td>\n      <td>116269</td>\n      <td>225+St</td>\n      <td>114+Rd</td>\n      <td>Dead+End</td>\n      <td>NB</td>\n      <td>10/5/2019</td>\n      <td>5.0</td>\n      <td>5.0</td>\n      <td>...</td>\n      <td>12</td>\n      <td>7</td>\n      <td>5</td>\n      <td>8</td>\n      <td>40.700963</td>\n      <td>-73.732432</td>\n      <td>10</td>\n      <td>5</td>\n      <td>2019</td>\n      <td>225+St+114+Rd</td>\n    </tr>\n    <tr>\n      <th>27</th>\n      <td>17896</td>\n      <td>26</td>\n      <td>116269</td>\n      <td>225+St</td>\n      <td>114+Rd</td>\n      <td>Dead+End</td>\n      <td>NB</td>\n      <td>10/6/2019</td>\n      <td>1.0</td>\n      <td>4.0</td>\n      <td>...</td>\n      <td>7</td>\n      <td>4</td>\n      <td>13</td>\n      <td>7</td>\n      <td>40.700963</td>\n      <td>-73.732432</td>\n      <td>10</td>\n      <td>6</td>\n      <td>2019</td>\n      <td>225+St+114+Rd</td>\n    </tr>\n    <tr>\n      <th>28</th>\n      <td>17928</td>\n      <td>26</td>\n      <td>116269</td>\n      <td>225+St</td>\n      <td>114+Rd</td>\n      <td>Dead+End</td>\n      <td>NB</td>\n      <td>10/7/2019</td>\n      <td>3.0</td>\n      <td>3.0</td>\n      <td>...</td>\n      <td>7</td>\n      <td>8</td>\n      <td>4</td>\n      <td>6</td>\n      <td>40.700963</td>\n      <td>-73.732432</td>\n      <td>10</td>\n      <td>7</td>\n      <td>2019</td>\n      <td>225+St+114+Rd</td>\n    </tr>\n    <tr>\n      <th>29</th>\n      <td>17961</td>\n      <td>26</td>\n      <td>116269</td>\n      <td>225+St</td>\n      <td>114+Rd</td>\n      <td>Dead+End</td>\n      <td>NB</td>\n      <td>10/8/2019</td>\n      <td>1.0</td>\n      <td>0.0</td>\n      <td>...</td>\n      <td>13</td>\n      <td>8</td>\n      <td>12</td>\n      <td>4</td>\n      <td>40.700963</td>\n      <td>-73.732432</td>\n      <td>10</td>\n      <td>8</td>\n      <td>2019</td>\n      <td>225+St+114+Rd</td>\n    </tr>\n    <tr>\n      <th>30</th>\n      <td>18089</td>\n      <td>26</td>\n      <td>116269</td>\n      <td>225+St</td>\n      <td>114+Rd</td>\n      <td>Dead+End</td>\n      <td>NB</td>\n      <td>10/9/2019</td>\n      <td>3.0</td>\n      <td>2.0</td>\n      <td>...</td>\n      <td>7</td>\n      <td>10</td>\n      <td>8</td>\n      <td>7</td>\n      <td>40.700963</td>\n      <td>-73.732432</td>\n      <td>10</td>\n      <td>9</td>\n      <td>2019</td>\n      <td>225+St+114+Rd</td>\n    </tr>\n    <tr>\n      <th>31</th>\n      <td>18154</td>\n      <td>26</td>\n      <td>116269</td>\n      <td>225+St</td>\n      <td>114+Rd</td>\n      <td>Dead+End</td>\n      <td>NB</td>\n      <td>10/10/2019</td>\n      <td>4.0</td>\n      <td>2.0</td>\n      <td>...</td>\n      <td>18</td>\n      <td>8</td>\n      <td>11</td>\n      <td>7</td>\n      <td>40.700963</td>\n      <td>-73.732432</td>\n      <td>10</td>\n      <td>10</td>\n      <td>2019</td>\n      <td>225+St+114+Rd</td>\n    </tr>\n    <tr>\n      <th>32</th>\n      <td>18511</td>\n      <td>26</td>\n      <td>116269</td>\n      <td>225+St</td>\n      <td>114+Rd</td>\n      <td>Dead+End</td>\n      <td>NB</td>\n      <td>10/11/2019</td>\n      <td>5.0</td>\n      <td>2.0</td>\n      <td>...</td>\n      <td>11</td>\n      <td>8</td>\n      <td>5</td>\n      <td>5</td>\n      <td>40.700963</td>\n      <td>-73.732432</td>\n      <td>10</td>\n      <td>11</td>\n      <td>2019</td>\n      <td>225+St+114+Rd</td>\n    </tr>\n    <tr>\n      <th>33</th>\n      <td>18608</td>\n      <td>26</td>\n      <td>116269</td>\n      <td>225+St</td>\n      <td>114+Rd</td>\n      <td>Dead+End</td>\n      <td>NB</td>\n      <td>10/12/2019</td>\n      <td>5.0</td>\n      <td>4.0</td>\n      <td>...</td>\n      <td>3</td>\n      <td>4</td>\n      <td>5</td>\n      <td>6</td>\n      <td>40.700963</td>\n      <td>-73.732432</td>\n      <td>10</td>\n      <td>12</td>\n      <td>2019</td>\n      <td>225+St+114+Rd</td>\n    </tr>\n    <tr>\n      <th>34</th>\n      <td>19152</td>\n      <td>26</td>\n      <td>116269</td>\n      <td>225+St</td>\n      <td>114+Rd</td>\n      <td>Dead+End</td>\n      <td>NB</td>\n      <td>10/13/2019</td>\n      <td>4.0</td>\n      <td>3.0</td>\n      <td>...</td>\n      <td>8</td>\n      <td>8</td>\n      <td>11</td>\n      <td>5</td>\n      <td>40.700963</td>\n      <td>-73.732432</td>\n      <td>10</td>\n      <td>13</td>\n      <td>2019</td>\n      <td>225+St+114+Rd</td>\n    </tr>\n    <tr>\n      <th>35</th>\n      <td>19248</td>\n      <td>26</td>\n      <td>116269</td>\n      <td>225+St</td>\n      <td>114+Rd</td>\n      <td>Dead+End</td>\n      <td>SB</td>\n      <td>10/5/2019</td>\n      <td>5.0</td>\n      <td>6.0</td>\n      <td>...</td>\n      <td>18</td>\n      <td>6</td>\n      <td>7</td>\n      <td>5</td>\n      <td>40.700963</td>\n      <td>-73.732432</td>\n      <td>10</td>\n      <td>5</td>\n      <td>2019</td>\n      <td>225+St+114+Rd</td>\n    </tr>\n    <tr>\n      <th>36</th>\n      <td>19312</td>\n      <td>26</td>\n      <td>116269</td>\n      <td>225+St</td>\n      <td>114+Rd</td>\n      <td>Dead+End</td>\n      <td>SB</td>\n      <td>10/6/2019</td>\n      <td>11.0</td>\n      <td>5.0</td>\n      <td>...</td>\n      <td>10</td>\n      <td>4</td>\n      <td>3</td>\n      <td>3</td>\n      <td>40.700963</td>\n      <td>-73.732432</td>\n      <td>10</td>\n      <td>6</td>\n      <td>2019</td>\n      <td>225+St+114+Rd</td>\n    </tr>\n    <tr>\n      <th>37</th>\n      <td>19408</td>\n      <td>26</td>\n      <td>116269</td>\n      <td>225+St</td>\n      <td>114+Rd</td>\n      <td>Dead+End</td>\n      <td>SB</td>\n      <td>10/7/2019</td>\n      <td>9.0</td>\n      <td>6.0</td>\n      <td>...</td>\n      <td>13</td>\n      <td>6</td>\n      <td>13</td>\n      <td>5</td>\n      <td>40.700963</td>\n      <td>-73.732432</td>\n      <td>10</td>\n      <td>7</td>\n      <td>2019</td>\n      <td>225+St+114+Rd</td>\n    </tr>\n    <tr>\n      <th>38</th>\n      <td>19441</td>\n      <td>26</td>\n      <td>116269</td>\n      <td>225+St</td>\n      <td>114+Rd</td>\n      <td>Dead+End</td>\n      <td>SB</td>\n      <td>10/8/2019</td>\n      <td>7.0</td>\n      <td>2.0</td>\n      <td>...</td>\n      <td>7</td>\n      <td>10</td>\n      <td>8</td>\n      <td>8</td>\n      <td>40.700963</td>\n      <td>-73.732432</td>\n      <td>10</td>\n      <td>8</td>\n      <td>2019</td>\n      <td>225+St+114+Rd</td>\n    </tr>\n    <tr>\n      <th>39</th>\n      <td>19473</td>\n      <td>26</td>\n      <td>116269</td>\n      <td>225+St</td>\n      <td>114+Rd</td>\n      <td>Dead+End</td>\n      <td>SB</td>\n      <td>10/9/2019</td>\n      <td>3.0</td>\n      <td>2.0</td>\n      <td>...</td>\n      <td>11</td>\n      <td>9</td>\n      <td>7</td>\n      <td>7</td>\n      <td>40.700963</td>\n      <td>-73.732432</td>\n      <td>10</td>\n      <td>9</td>\n      <td>2019</td>\n      <td>225+St+114+Rd</td>\n    </tr>\n    <tr>\n      <th>40</th>\n      <td>19634</td>\n      <td>26</td>\n      <td>116269</td>\n      <td>225+St</td>\n      <td>114+Rd</td>\n      <td>Dead+End</td>\n      <td>SB</td>\n      <td>10/10/2019</td>\n      <td>4.0</td>\n      <td>4.0</td>\n      <td>...</td>\n      <td>28</td>\n      <td>9</td>\n      <td>12</td>\n      <td>7</td>\n      <td>40.700963</td>\n      <td>-73.732432</td>\n      <td>10</td>\n      <td>10</td>\n      <td>2019</td>\n      <td>225+St+114+Rd</td>\n    </tr>\n    <tr>\n      <th>41</th>\n      <td>19699</td>\n      <td>26</td>\n      <td>116269</td>\n      <td>225+St</td>\n      <td>114+Rd</td>\n      <td>Dead+End</td>\n      <td>SB</td>\n      <td>10/11/2019</td>\n      <td>6.0</td>\n      <td>3.0</td>\n      <td>...</td>\n      <td>17</td>\n      <td>19</td>\n      <td>4</td>\n      <td>6</td>\n      <td>40.700963</td>\n      <td>-73.732432</td>\n      <td>10</td>\n      <td>11</td>\n      <td>2019</td>\n      <td>225+St+114+Rd</td>\n    </tr>\n    <tr>\n      <th>42</th>\n      <td>19892</td>\n      <td>26</td>\n      <td>116269</td>\n      <td>225+St</td>\n      <td>114+Rd</td>\n      <td>Dead+End</td>\n      <td>SB</td>\n      <td>10/12/2019</td>\n      <td>6.0</td>\n      <td>4.0</td>\n      <td>...</td>\n      <td>18</td>\n      <td>12</td>\n      <td>7</td>\n      <td>14</td>\n      <td>40.700963</td>\n      <td>-73.732432</td>\n      <td>10</td>\n      <td>12</td>\n      <td>2019</td>\n      <td>225+St+114+Rd</td>\n    </tr>\n    <tr>\n      <th>43</th>\n      <td>20214</td>\n      <td>26</td>\n      <td>116269</td>\n      <td>225+St</td>\n      <td>114+Rd</td>\n      <td>Dead+End</td>\n      <td>SB</td>\n      <td>10/13/2019</td>\n      <td>10.0</td>\n      <td>6.0</td>\n      <td>...</td>\n      <td>15</td>\n      <td>9</td>\n      <td>8</td>\n      <td>8</td>\n      <td>40.700963</td>\n      <td>-73.732432</td>\n      <td>10</td>\n      <td>13</td>\n      <td>2019</td>\n      <td>225+St+114+Rd</td>\n    </tr>\n  </tbody>\n</table>\n<p>18 rows × 38 columns</p>\n</div>"
     },
     "metadata": {},
     "execution_count": 20
    }
   ],
   "source": [
    "clean_df.loc[clean_df[\"ID\"] == 26]"
   ]
  },
  {
   "cell_type": "code",
   "execution_count": 6,
   "metadata": {},
   "outputs": [],
   "source": [
    "separator = \"+\""
   ]
  },
  {
   "cell_type": "code",
   "execution_count": 11,
   "metadata": {},
   "outputs": [],
   "source": [
    "#Create column with intersection so we can sum yearly totals for each intersection \n",
    "clean_df[\"Intersection\"] = clean_df[\"Roadway_Name\"].map(str) + separator + clean_df[\"From\"]"
   ]
  },
  {
   "cell_type": "code",
   "execution_count": 29,
   "metadata": {},
   "outputs": [],
   "source": [
    "clean_df[\"daily_total\"] = clean_df.iloc[:, 7:31].sum(axis=1)"
   ]
  },
  {
   "cell_type": "code",
   "execution_count": 41,
   "metadata": {},
   "outputs": [
    {
     "output_type": "execute_result",
     "data": {
      "text/plain": "Index(['Unnamed: 0', 'ID', 'Segment_ID', 'Roadway_Name', 'From', 'To',\n       'Direction', 'Date', '12:00-1:00 AM', '1:00-2:00AM', '2:00-3:00AM',\n       '3:00-4:00AM', '4:00-5:00AM', '5:00-6:00AM', '6:00-7:00AM',\n       '7:00-8:00AM', '8:00-9:00AM', '9:00-10:00AM', '10:00-11:00AM',\n       '11:00-12:00PM', '12:00-1:00PM', '1:00-2:00PM', '2:00-3:00PM',\n       '3:00-4:00PM', '4:00-5:00PM', '5:00-6:00PM', '6:00-7:00PM',\n       '7:00-8:00PM', '8:00-9:00PM', '9:00-10:00PM', '10:00-11:00PM',\n       '11:00-12:00AM', 'latitude', 'longitude', 'Month', 'Day', 'Year',\n       'Intersection', 'daily_total'],\n      dtype='object')"
     },
     "metadata": {},
     "execution_count": 41
    }
   ],
   "source": [
    "clean_df.columns"
   ]
  },
  {
   "cell_type": "code",
   "execution_count": 42,
   "metadata": {},
   "outputs": [],
   "source": [
    "yearly_ttl_df = clean_df.groupby(\"Segment_ID\").sum()"
   ]
  },
  {
   "cell_type": "code",
   "execution_count": 43,
   "metadata": {},
   "outputs": [
    {
     "output_type": "execute_result",
     "data": {
      "text/plain": "Index(['Unnamed: 0', 'ID', '12:00-1:00 AM', '1:00-2:00AM', '2:00-3:00AM',\n       '3:00-4:00AM', '4:00-5:00AM', '5:00-6:00AM', '6:00-7:00AM',\n       '7:00-8:00AM', '8:00-9:00AM', '9:00-10:00AM', '10:00-11:00AM',\n       '11:00-12:00PM', '12:00-1:00PM', '1:00-2:00PM', '2:00-3:00PM',\n       '3:00-4:00PM', '4:00-5:00PM', '5:00-6:00PM', '6:00-7:00PM',\n       '7:00-8:00PM', '8:00-9:00PM', '9:00-10:00PM', '10:00-11:00PM',\n       '11:00-12:00AM', 'longitude', 'Month', 'Day', 'Year', 'daily_total'],\n      dtype='object')"
     },
     "metadata": {},
     "execution_count": 43
    }
   ],
   "source": [
    "yearly_ttl_df.columns"
   ]
  },
  {
   "cell_type": "code",
   "execution_count": 36,
   "metadata": {
    "tags": []
   },
   "outputs": [],
   "source": [
    "tp10yrly = yearly_ttl_df.nlargest(10, ['daily_total'])"
   ]
  },
  {
   "cell_type": "code",
   "execution_count": 47,
   "metadata": {},
   "outputs": [
    {
     "output_type": "execute_result",
     "data": {
      "text/plain": "Index(['Unnamed: 0', 'ID', '12:00-1:00 AM', '1:00-2:00AM', '2:00-3:00AM',\n       '3:00-4:00AM', '4:00-5:00AM', '5:00-6:00AM', '6:00-7:00AM',\n       '7:00-8:00AM', '8:00-9:00AM', '9:00-10:00AM', '10:00-11:00AM',\n       '11:00-12:00PM', '12:00-1:00PM', '1:00-2:00PM', '2:00-3:00PM',\n       '3:00-4:00PM', '4:00-5:00PM', '5:00-6:00PM', '6:00-7:00PM',\n       '7:00-8:00PM', '8:00-9:00PM', '9:00-10:00PM', '10:00-11:00PM',\n       '11:00-12:00AM', 'longitude', 'Month', 'Day', 'Year', 'daily_total'],\n      dtype='object')"
     },
     "metadata": {},
     "execution_count": 47
    }
   ],
   "source": [
    "tp10yrly.columns"
   ]
  },
  {
   "cell_type": "code",
   "execution_count": 53,
   "metadata": {},
   "outputs": [],
   "source": [
    "tp10yrly.drop('Month', 1, inplace=True)\n",
    "tp10yrly.drop('Day', 1, inplace=True)\n",
    "tp10yrly.drop('Year', 1, inplace=True)"
   ]
  },
  {
   "cell_type": "code",
   "execution_count": 54,
   "metadata": {},
   "outputs": [
    {
     "output_type": "execute_result",
     "data": {
      "text/plain": "            Unnamed: 0    ID  12:00-1:00 AM  1:00-2:00AM  2:00-3:00AM  \\\nSegment_ID                                                              \n251949          440163  3564        33759.0      22146.0      17509.0   \n179513          471915  5526         9927.0       6524.0       5351.0   \n158938          487953  6516        11308.0       6874.0       4596.0   \n22924           408249  1566         4628.0       3795.0       3062.0   \n64059           238023  2889         3953.0       2668.0       1841.0   \n32329           424935  2610        15811.0      13162.0      10857.0   \n9009697         236808  2808         7492.0       5389.0       4188.0   \n160109          484551  6300         4139.0       2402.0       1653.0   \n143526          243774  3249         7420.0       4825.0       3470.0   \n50823           231948  2547         9786.0       5935.0       4089.0   \n\n            3:00-4:00AM  4:00-5:00AM  5:00-6:00AM  6:00-7:00AM  7:00-8:00AM  \\\nSegment_ID                                                                    \n251949          16516.0      21392.0      35249.0      51691.0      57345.0   \n179513           5510.0       9017.0      20986.0      27646.0      26450.0   \n158938           3686.0       3940.0       8482.0      19606.0      26264.0   \n22924            3489.0       9038.0      18549.0      21215.0      21029.0   \n64059            1729.0       2171.0       3415.0       7266.0      12479.0   \n32329            9771.0       9889.0      12735.0      16065.0      17545.0   \n9009697          3776.0       4520.0       6182.0      11632.0      15004.0   \n160109           1493.0       2065.0       4629.0      10728.0      15270.0   \n143526           2893.0       2865.0       5341.0      10813.0      14999.0   \n50823            3857.0       4918.0       7016.0       9661.0      11532.0   \n\n            ...  3:00-4:00PM  4:00-5:00PM  5:00-6:00PM  6:00-7:00PM  \\\nSegment_ID  ...                                                       \n251949      ...        62821        62837        61345        62605   \n179513      ...        41298        39557        39226        38360   \n158938      ...        37848        36633        35840        34971   \n22924       ...        21898        21239        19764        17246   \n64059       ...        27485        26114        24235        24946   \n32329       ...        14505        13116        11420        13491   \n9009697     ...        20980        21680        21147        19739   \n160109      ...        22031        22498        22943        21129   \n143526      ...        20795        20602        21305        20502   \n50823       ...        21189        21191        20480        19212   \n\n            7:00-8:00PM  8:00-9:00PM  9:00-10:00PM  10:00-11:00PM  \\\nSegment_ID                                                          \n251949            60161        55186         51035          45963   \n179513            37390        28197         23593          18365   \n158938            30417        25383         23374          22697   \n22924             15245        13433         12330           9442   \n64059             21374        16249         12153           9909   \n32329             15407        17357         17807          18249   \n9009697           17208        15080         13401          12035   \n160109            16800        13312          9974           8145   \n143526            17551        14484         13799          12854   \n50823             19013        20043         17120          13893   \n\n            11:00-12:00AM  daily_total  \nSegment_ID                              \n251949              41144    1121449.0  \n179513              14810     606923.0  \n158938              16875     550750.0  \n22924                6427     360178.0  \n64059                6276     346751.0  \n32329               16750     337027.0  \n9009697              9598     328747.0  \n160109               5766     318763.0  \n143526               9651     313441.0  \n50823               11372     311427.0  \n\n[10 rows x 27 columns]",
      "text/html": "<div>\n<style scoped>\n    .dataframe tbody tr th:only-of-type {\n        vertical-align: middle;\n    }\n\n    .dataframe tbody tr th {\n        vertical-align: top;\n    }\n\n    .dataframe thead th {\n        text-align: right;\n    }\n</style>\n<table border=\"1\" class=\"dataframe\">\n  <thead>\n    <tr style=\"text-align: right;\">\n      <th></th>\n      <th>Unnamed: 0</th>\n      <th>ID</th>\n      <th>12:00-1:00 AM</th>\n      <th>1:00-2:00AM</th>\n      <th>2:00-3:00AM</th>\n      <th>3:00-4:00AM</th>\n      <th>4:00-5:00AM</th>\n      <th>5:00-6:00AM</th>\n      <th>6:00-7:00AM</th>\n      <th>7:00-8:00AM</th>\n      <th>...</th>\n      <th>3:00-4:00PM</th>\n      <th>4:00-5:00PM</th>\n      <th>5:00-6:00PM</th>\n      <th>6:00-7:00PM</th>\n      <th>7:00-8:00PM</th>\n      <th>8:00-9:00PM</th>\n      <th>9:00-10:00PM</th>\n      <th>10:00-11:00PM</th>\n      <th>11:00-12:00AM</th>\n      <th>daily_total</th>\n    </tr>\n    <tr>\n      <th>Segment_ID</th>\n      <th></th>\n      <th></th>\n      <th></th>\n      <th></th>\n      <th></th>\n      <th></th>\n      <th></th>\n      <th></th>\n      <th></th>\n      <th></th>\n      <th></th>\n      <th></th>\n      <th></th>\n      <th></th>\n      <th></th>\n      <th></th>\n      <th></th>\n      <th></th>\n      <th></th>\n      <th></th>\n      <th></th>\n    </tr>\n  </thead>\n  <tbody>\n    <tr>\n      <th>251949</th>\n      <td>440163</td>\n      <td>3564</td>\n      <td>33759.0</td>\n      <td>22146.0</td>\n      <td>17509.0</td>\n      <td>16516.0</td>\n      <td>21392.0</td>\n      <td>35249.0</td>\n      <td>51691.0</td>\n      <td>57345.0</td>\n      <td>...</td>\n      <td>62821</td>\n      <td>62837</td>\n      <td>61345</td>\n      <td>62605</td>\n      <td>60161</td>\n      <td>55186</td>\n      <td>51035</td>\n      <td>45963</td>\n      <td>41144</td>\n      <td>1121449.0</td>\n    </tr>\n    <tr>\n      <th>179513</th>\n      <td>471915</td>\n      <td>5526</td>\n      <td>9927.0</td>\n      <td>6524.0</td>\n      <td>5351.0</td>\n      <td>5510.0</td>\n      <td>9017.0</td>\n      <td>20986.0</td>\n      <td>27646.0</td>\n      <td>26450.0</td>\n      <td>...</td>\n      <td>41298</td>\n      <td>39557</td>\n      <td>39226</td>\n      <td>38360</td>\n      <td>37390</td>\n      <td>28197</td>\n      <td>23593</td>\n      <td>18365</td>\n      <td>14810</td>\n      <td>606923.0</td>\n    </tr>\n    <tr>\n      <th>158938</th>\n      <td>487953</td>\n      <td>6516</td>\n      <td>11308.0</td>\n      <td>6874.0</td>\n      <td>4596.0</td>\n      <td>3686.0</td>\n      <td>3940.0</td>\n      <td>8482.0</td>\n      <td>19606.0</td>\n      <td>26264.0</td>\n      <td>...</td>\n      <td>37848</td>\n      <td>36633</td>\n      <td>35840</td>\n      <td>34971</td>\n      <td>30417</td>\n      <td>25383</td>\n      <td>23374</td>\n      <td>22697</td>\n      <td>16875</td>\n      <td>550750.0</td>\n    </tr>\n    <tr>\n      <th>22924</th>\n      <td>408249</td>\n      <td>1566</td>\n      <td>4628.0</td>\n      <td>3795.0</td>\n      <td>3062.0</td>\n      <td>3489.0</td>\n      <td>9038.0</td>\n      <td>18549.0</td>\n      <td>21215.0</td>\n      <td>21029.0</td>\n      <td>...</td>\n      <td>21898</td>\n      <td>21239</td>\n      <td>19764</td>\n      <td>17246</td>\n      <td>15245</td>\n      <td>13433</td>\n      <td>12330</td>\n      <td>9442</td>\n      <td>6427</td>\n      <td>360178.0</td>\n    </tr>\n    <tr>\n      <th>64059</th>\n      <td>238023</td>\n      <td>2889</td>\n      <td>3953.0</td>\n      <td>2668.0</td>\n      <td>1841.0</td>\n      <td>1729.0</td>\n      <td>2171.0</td>\n      <td>3415.0</td>\n      <td>7266.0</td>\n      <td>12479.0</td>\n      <td>...</td>\n      <td>27485</td>\n      <td>26114</td>\n      <td>24235</td>\n      <td>24946</td>\n      <td>21374</td>\n      <td>16249</td>\n      <td>12153</td>\n      <td>9909</td>\n      <td>6276</td>\n      <td>346751.0</td>\n    </tr>\n    <tr>\n      <th>32329</th>\n      <td>424935</td>\n      <td>2610</td>\n      <td>15811.0</td>\n      <td>13162.0</td>\n      <td>10857.0</td>\n      <td>9771.0</td>\n      <td>9889.0</td>\n      <td>12735.0</td>\n      <td>16065.0</td>\n      <td>17545.0</td>\n      <td>...</td>\n      <td>14505</td>\n      <td>13116</td>\n      <td>11420</td>\n      <td>13491</td>\n      <td>15407</td>\n      <td>17357</td>\n      <td>17807</td>\n      <td>18249</td>\n      <td>16750</td>\n      <td>337027.0</td>\n    </tr>\n    <tr>\n      <th>9009697</th>\n      <td>236808</td>\n      <td>2808</td>\n      <td>7492.0</td>\n      <td>5389.0</td>\n      <td>4188.0</td>\n      <td>3776.0</td>\n      <td>4520.0</td>\n      <td>6182.0</td>\n      <td>11632.0</td>\n      <td>15004.0</td>\n      <td>...</td>\n      <td>20980</td>\n      <td>21680</td>\n      <td>21147</td>\n      <td>19739</td>\n      <td>17208</td>\n      <td>15080</td>\n      <td>13401</td>\n      <td>12035</td>\n      <td>9598</td>\n      <td>328747.0</td>\n    </tr>\n    <tr>\n      <th>160109</th>\n      <td>484551</td>\n      <td>6300</td>\n      <td>4139.0</td>\n      <td>2402.0</td>\n      <td>1653.0</td>\n      <td>1493.0</td>\n      <td>2065.0</td>\n      <td>4629.0</td>\n      <td>10728.0</td>\n      <td>15270.0</td>\n      <td>...</td>\n      <td>22031</td>\n      <td>22498</td>\n      <td>22943</td>\n      <td>21129</td>\n      <td>16800</td>\n      <td>13312</td>\n      <td>9974</td>\n      <td>8145</td>\n      <td>5766</td>\n      <td>318763.0</td>\n    </tr>\n    <tr>\n      <th>143526</th>\n      <td>243774</td>\n      <td>3249</td>\n      <td>7420.0</td>\n      <td>4825.0</td>\n      <td>3470.0</td>\n      <td>2893.0</td>\n      <td>2865.0</td>\n      <td>5341.0</td>\n      <td>10813.0</td>\n      <td>14999.0</td>\n      <td>...</td>\n      <td>20795</td>\n      <td>20602</td>\n      <td>21305</td>\n      <td>20502</td>\n      <td>17551</td>\n      <td>14484</td>\n      <td>13799</td>\n      <td>12854</td>\n      <td>9651</td>\n      <td>313441.0</td>\n    </tr>\n    <tr>\n      <th>50823</th>\n      <td>231948</td>\n      <td>2547</td>\n      <td>9786.0</td>\n      <td>5935.0</td>\n      <td>4089.0</td>\n      <td>3857.0</td>\n      <td>4918.0</td>\n      <td>7016.0</td>\n      <td>9661.0</td>\n      <td>11532.0</td>\n      <td>...</td>\n      <td>21189</td>\n      <td>21191</td>\n      <td>20480</td>\n      <td>19212</td>\n      <td>19013</td>\n      <td>20043</td>\n      <td>17120</td>\n      <td>13893</td>\n      <td>11372</td>\n      <td>311427.0</td>\n    </tr>\n  </tbody>\n</table>\n<p>10 rows × 27 columns</p>\n</div>"
     },
     "metadata": {},
     "execution_count": 54
    }
   ],
   "source": [
    "tp10yrly"
   ]
  },
  {
   "cell_type": "code",
   "execution_count": 58,
   "metadata": {},
   "outputs": [],
   "source": [
    "tp10yrly = tp10yrly.reset_index()"
   ]
  },
  {
   "cell_type": "code",
   "execution_count": 59,
   "metadata": {},
   "outputs": [
    {
     "output_type": "execute_result",
     "data": {
      "text/plain": "   Segment_ID  Unnamed: 0    ID  12:00-1:00 AM  1:00-2:00AM  2:00-3:00AM  \\\n0      251949      440163  3564        33759.0      22146.0      17509.0   \n1      179513      471915  5526         9927.0       6524.0       5351.0   \n2      158938      487953  6516        11308.0       6874.0       4596.0   \n3       22924      408249  1566         4628.0       3795.0       3062.0   \n4       64059      238023  2889         3953.0       2668.0       1841.0   \n5       32329      424935  2610        15811.0      13162.0      10857.0   \n6     9009697      236808  2808         7492.0       5389.0       4188.0   \n7      160109      484551  6300         4139.0       2402.0       1653.0   \n8      143526      243774  3249         7420.0       4825.0       3470.0   \n9       50823      231948  2547         9786.0       5935.0       4089.0   \n\n   3:00-4:00AM  4:00-5:00AM  5:00-6:00AM  6:00-7:00AM  ...  3:00-4:00PM  \\\n0      16516.0      21392.0      35249.0      51691.0  ...        62821   \n1       5510.0       9017.0      20986.0      27646.0  ...        41298   \n2       3686.0       3940.0       8482.0      19606.0  ...        37848   \n3       3489.0       9038.0      18549.0      21215.0  ...        21898   \n4       1729.0       2171.0       3415.0       7266.0  ...        27485   \n5       9771.0       9889.0      12735.0      16065.0  ...        14505   \n6       3776.0       4520.0       6182.0      11632.0  ...        20980   \n7       1493.0       2065.0       4629.0      10728.0  ...        22031   \n8       2893.0       2865.0       5341.0      10813.0  ...        20795   \n9       3857.0       4918.0       7016.0       9661.0  ...        21189   \n\n   4:00-5:00PM  5:00-6:00PM  6:00-7:00PM  7:00-8:00PM  8:00-9:00PM  \\\n0        62837        61345        62605        60161        55186   \n1        39557        39226        38360        37390        28197   \n2        36633        35840        34971        30417        25383   \n3        21239        19764        17246        15245        13433   \n4        26114        24235        24946        21374        16249   \n5        13116        11420        13491        15407        17357   \n6        21680        21147        19739        17208        15080   \n7        22498        22943        21129        16800        13312   \n8        20602        21305        20502        17551        14484   \n9        21191        20480        19212        19013        20043   \n\n   9:00-10:00PM  10:00-11:00PM  11:00-12:00AM  daily_total  \n0         51035          45963          41144    1121449.0  \n1         23593          18365          14810     606923.0  \n2         23374          22697          16875     550750.0  \n3         12330           9442           6427     360178.0  \n4         12153           9909           6276     346751.0  \n5         17807          18249          16750     337027.0  \n6         13401          12035           9598     328747.0  \n7          9974           8145           5766     318763.0  \n8         13799          12854           9651     313441.0  \n9         17120          13893          11372     311427.0  \n\n[10 rows x 28 columns]",
      "text/html": "<div>\n<style scoped>\n    .dataframe tbody tr th:only-of-type {\n        vertical-align: middle;\n    }\n\n    .dataframe tbody tr th {\n        vertical-align: top;\n    }\n\n    .dataframe thead th {\n        text-align: right;\n    }\n</style>\n<table border=\"1\" class=\"dataframe\">\n  <thead>\n    <tr style=\"text-align: right;\">\n      <th></th>\n      <th>Segment_ID</th>\n      <th>Unnamed: 0</th>\n      <th>ID</th>\n      <th>12:00-1:00 AM</th>\n      <th>1:00-2:00AM</th>\n      <th>2:00-3:00AM</th>\n      <th>3:00-4:00AM</th>\n      <th>4:00-5:00AM</th>\n      <th>5:00-6:00AM</th>\n      <th>6:00-7:00AM</th>\n      <th>...</th>\n      <th>3:00-4:00PM</th>\n      <th>4:00-5:00PM</th>\n      <th>5:00-6:00PM</th>\n      <th>6:00-7:00PM</th>\n      <th>7:00-8:00PM</th>\n      <th>8:00-9:00PM</th>\n      <th>9:00-10:00PM</th>\n      <th>10:00-11:00PM</th>\n      <th>11:00-12:00AM</th>\n      <th>daily_total</th>\n    </tr>\n  </thead>\n  <tbody>\n    <tr>\n      <th>0</th>\n      <td>251949</td>\n      <td>440163</td>\n      <td>3564</td>\n      <td>33759.0</td>\n      <td>22146.0</td>\n      <td>17509.0</td>\n      <td>16516.0</td>\n      <td>21392.0</td>\n      <td>35249.0</td>\n      <td>51691.0</td>\n      <td>...</td>\n      <td>62821</td>\n      <td>62837</td>\n      <td>61345</td>\n      <td>62605</td>\n      <td>60161</td>\n      <td>55186</td>\n      <td>51035</td>\n      <td>45963</td>\n      <td>41144</td>\n      <td>1121449.0</td>\n    </tr>\n    <tr>\n      <th>1</th>\n      <td>179513</td>\n      <td>471915</td>\n      <td>5526</td>\n      <td>9927.0</td>\n      <td>6524.0</td>\n      <td>5351.0</td>\n      <td>5510.0</td>\n      <td>9017.0</td>\n      <td>20986.0</td>\n      <td>27646.0</td>\n      <td>...</td>\n      <td>41298</td>\n      <td>39557</td>\n      <td>39226</td>\n      <td>38360</td>\n      <td>37390</td>\n      <td>28197</td>\n      <td>23593</td>\n      <td>18365</td>\n      <td>14810</td>\n      <td>606923.0</td>\n    </tr>\n    <tr>\n      <th>2</th>\n      <td>158938</td>\n      <td>487953</td>\n      <td>6516</td>\n      <td>11308.0</td>\n      <td>6874.0</td>\n      <td>4596.0</td>\n      <td>3686.0</td>\n      <td>3940.0</td>\n      <td>8482.0</td>\n      <td>19606.0</td>\n      <td>...</td>\n      <td>37848</td>\n      <td>36633</td>\n      <td>35840</td>\n      <td>34971</td>\n      <td>30417</td>\n      <td>25383</td>\n      <td>23374</td>\n      <td>22697</td>\n      <td>16875</td>\n      <td>550750.0</td>\n    </tr>\n    <tr>\n      <th>3</th>\n      <td>22924</td>\n      <td>408249</td>\n      <td>1566</td>\n      <td>4628.0</td>\n      <td>3795.0</td>\n      <td>3062.0</td>\n      <td>3489.0</td>\n      <td>9038.0</td>\n      <td>18549.0</td>\n      <td>21215.0</td>\n      <td>...</td>\n      <td>21898</td>\n      <td>21239</td>\n      <td>19764</td>\n      <td>17246</td>\n      <td>15245</td>\n      <td>13433</td>\n      <td>12330</td>\n      <td>9442</td>\n      <td>6427</td>\n      <td>360178.0</td>\n    </tr>\n    <tr>\n      <th>4</th>\n      <td>64059</td>\n      <td>238023</td>\n      <td>2889</td>\n      <td>3953.0</td>\n      <td>2668.0</td>\n      <td>1841.0</td>\n      <td>1729.0</td>\n      <td>2171.0</td>\n      <td>3415.0</td>\n      <td>7266.0</td>\n      <td>...</td>\n      <td>27485</td>\n      <td>26114</td>\n      <td>24235</td>\n      <td>24946</td>\n      <td>21374</td>\n      <td>16249</td>\n      <td>12153</td>\n      <td>9909</td>\n      <td>6276</td>\n      <td>346751.0</td>\n    </tr>\n    <tr>\n      <th>5</th>\n      <td>32329</td>\n      <td>424935</td>\n      <td>2610</td>\n      <td>15811.0</td>\n      <td>13162.0</td>\n      <td>10857.0</td>\n      <td>9771.0</td>\n      <td>9889.0</td>\n      <td>12735.0</td>\n      <td>16065.0</td>\n      <td>...</td>\n      <td>14505</td>\n      <td>13116</td>\n      <td>11420</td>\n      <td>13491</td>\n      <td>15407</td>\n      <td>17357</td>\n      <td>17807</td>\n      <td>18249</td>\n      <td>16750</td>\n      <td>337027.0</td>\n    </tr>\n    <tr>\n      <th>6</th>\n      <td>9009697</td>\n      <td>236808</td>\n      <td>2808</td>\n      <td>7492.0</td>\n      <td>5389.0</td>\n      <td>4188.0</td>\n      <td>3776.0</td>\n      <td>4520.0</td>\n      <td>6182.0</td>\n      <td>11632.0</td>\n      <td>...</td>\n      <td>20980</td>\n      <td>21680</td>\n      <td>21147</td>\n      <td>19739</td>\n      <td>17208</td>\n      <td>15080</td>\n      <td>13401</td>\n      <td>12035</td>\n      <td>9598</td>\n      <td>328747.0</td>\n    </tr>\n    <tr>\n      <th>7</th>\n      <td>160109</td>\n      <td>484551</td>\n      <td>6300</td>\n      <td>4139.0</td>\n      <td>2402.0</td>\n      <td>1653.0</td>\n      <td>1493.0</td>\n      <td>2065.0</td>\n      <td>4629.0</td>\n      <td>10728.0</td>\n      <td>...</td>\n      <td>22031</td>\n      <td>22498</td>\n      <td>22943</td>\n      <td>21129</td>\n      <td>16800</td>\n      <td>13312</td>\n      <td>9974</td>\n      <td>8145</td>\n      <td>5766</td>\n      <td>318763.0</td>\n    </tr>\n    <tr>\n      <th>8</th>\n      <td>143526</td>\n      <td>243774</td>\n      <td>3249</td>\n      <td>7420.0</td>\n      <td>4825.0</td>\n      <td>3470.0</td>\n      <td>2893.0</td>\n      <td>2865.0</td>\n      <td>5341.0</td>\n      <td>10813.0</td>\n      <td>...</td>\n      <td>20795</td>\n      <td>20602</td>\n      <td>21305</td>\n      <td>20502</td>\n      <td>17551</td>\n      <td>14484</td>\n      <td>13799</td>\n      <td>12854</td>\n      <td>9651</td>\n      <td>313441.0</td>\n    </tr>\n    <tr>\n      <th>9</th>\n      <td>50823</td>\n      <td>231948</td>\n      <td>2547</td>\n      <td>9786.0</td>\n      <td>5935.0</td>\n      <td>4089.0</td>\n      <td>3857.0</td>\n      <td>4918.0</td>\n      <td>7016.0</td>\n      <td>9661.0</td>\n      <td>...</td>\n      <td>21189</td>\n      <td>21191</td>\n      <td>20480</td>\n      <td>19212</td>\n      <td>19013</td>\n      <td>20043</td>\n      <td>17120</td>\n      <td>13893</td>\n      <td>11372</td>\n      <td>311427.0</td>\n    </tr>\n  </tbody>\n</table>\n<p>10 rows × 28 columns</p>\n</div>"
     },
     "metadata": {},
     "execution_count": 59
    }
   ],
   "source": [
    "#need to reinsert latitude and longitude data from clean_df \n",
    "tp10yrly"
   ]
  },
  {
   "cell_type": "code",
   "execution_count": 83,
   "metadata": {},
   "outputs": [],
   "source": [
    "Segment_IDs = tp10yrly[\"Segment_ID\"].tolist()"
   ]
  },
  {
   "cell_type": "code",
   "execution_count": 87,
   "metadata": {
    "tags": []
   },
   "outputs": [
    {
     "output_type": "execute_result",
     "data": {
      "text/plain": "[251949, 179513, 158938, 22924, 64059, 32329, 9009697, 160109, 143526, 50823]"
     },
     "metadata": {},
     "execution_count": 87
    }
   ],
   "source": [
    "#List of segment ID's that can be matched to segment ID's in clean_df to find the latitude and the longitude \n",
    "Segment_IDs"
   ]
  },
  {
   "cell_type": "code",
   "execution_count": 85,
   "metadata": {},
   "outputs": [],
   "source": [
    "coordinates={}"
   ]
  },
  {
   "cell_type": "code",
   "execution_count": 88,
   "metadata": {},
   "outputs": [],
   "source": [
    "df_filt = clean_df[clean_df.Segment_ID.isin(Segment_IDs)]"
   ]
  },
  {
   "cell_type": "code",
   "execution_count": 93,
   "metadata": {},
   "outputs": [
    {
     "output_type": "execute_result",
     "data": {
      "text/plain": "Index(['Unnamed: 0', 'ID', 'Segment_ID', 'Roadway_Name', 'From', 'To',\n       'Direction', 'Date', '12:00-1:00 AM', '1:00-2:00AM', '2:00-3:00AM',\n       '3:00-4:00AM', '4:00-5:00AM', '5:00-6:00AM', '6:00-7:00AM',\n       '7:00-8:00AM', '8:00-9:00AM', '9:00-10:00AM', '10:00-11:00AM',\n       '11:00-12:00PM', '12:00-1:00PM', '1:00-2:00PM', '2:00-3:00PM',\n       '3:00-4:00PM', '4:00-5:00PM', '5:00-6:00PM', '6:00-7:00PM',\n       '7:00-8:00PM', '8:00-9:00PM', '9:00-10:00PM', '10:00-11:00PM',\n       '11:00-12:00AM', 'latitude', 'longitude', 'Month', 'Day', 'Year',\n       'Intersection', 'daily_total'],\n      dtype='object')"
     },
     "metadata": {},
     "execution_count": 93
    }
   ],
   "source": [
    "df_filt.columns"
   ]
  },
  {
   "cell_type": "code",
   "execution_count": 96,
   "metadata": {},
   "outputs": [],
   "source": [
    "segtemp = df_filt[\"Segment_ID\"].unique()"
   ]
  },
  {
   "cell_type": "code",
   "execution_count": 97,
   "metadata": {},
   "outputs": [],
   "source": [
    "lattemp = df_filt['latitude'].unique()"
   ]
  },
  {
   "cell_type": "code",
   "execution_count": 98,
   "metadata": {},
   "outputs": [],
   "source": [
    "longtemp = df_filt['longitude'].unique()"
   ]
  },
  {
   "cell_type": "code",
   "execution_count": 100,
   "metadata": {},
   "outputs": [
    {
     "output_type": "execute_result",
     "data": {
      "text/plain": "['40.6853329',\n '40.7184369',\n '40.8198959',\n '40.6752064',\n '40.8179236',\n '40.6743114',\n '40.66555820000001',\n '40.60907359999999',\n '40.7375736',\n '40.7755364']"
     },
     "metadata": {},
     "execution_count": 100
    }
   ],
   "source": [
    "lattemp.tolist()"
   ]
  },
  {
   "cell_type": "code",
   "execution_count": 68,
   "metadata": {},
   "outputs": [
    {
     "output_type": "execute_result",
     "data": {
      "text/plain": "Index(['Segment_ID', 'Unnamed: 0', 'ID', '12:00-1:00 AM', '1:00-2:00AM',\n       '2:00-3:00AM', '3:00-4:00AM', '4:00-5:00AM', '5:00-6:00AM',\n       '6:00-7:00AM', '7:00-8:00AM', '8:00-9:00AM', '9:00-10:00AM',\n       '10:00-11:00AM', '11:00-12:00PM', '12:00-1:00PM', '1:00-2:00PM',\n       '2:00-3:00PM', '3:00-4:00PM', '4:00-5:00PM', '5:00-6:00PM',\n       '6:00-7:00PM', '7:00-8:00PM', '8:00-9:00PM', '9:00-10:00PM',\n       '10:00-11:00PM', '11:00-12:00AM', 'daily_total'],\n      dtype='object')"
     },
     "metadata": {},
     "execution_count": 68
    }
   ],
   "source": [
    "tp10yrly.columns"
   ]
  },
  {
   "cell_type": "code",
   "execution_count": 101,
   "metadata": {},
   "outputs": [],
   "source": [
    "tp10yrly[\"latitude\"] = lattemp"
   ]
  },
  {
   "cell_type": "code",
   "execution_count": 102,
   "metadata": {},
   "outputs": [],
   "source": [
    "longtemp.tolist()\n",
    "tp10yrly[\"longitude\"] = longtemp"
   ]
  },
  {
   "cell_type": "code",
   "execution_count": 103,
   "metadata": {},
   "outputs": [
    {
     "output_type": "execute_result",
     "data": {
      "text/plain": "   Segment_ID  Unnamed: 0    ID  12:00-1:00 AM  1:00-2:00AM  2:00-3:00AM  \\\n0      251949      440163  3564        33759.0      22146.0      17509.0   \n1      179513      471915  5526         9927.0       6524.0       5351.0   \n2      158938      487953  6516        11308.0       6874.0       4596.0   \n3       22924      408249  1566         4628.0       3795.0       3062.0   \n4       64059      238023  2889         3953.0       2668.0       1841.0   \n5       32329      424935  2610        15811.0      13162.0      10857.0   \n6     9009697      236808  2808         7492.0       5389.0       4188.0   \n7      160109      484551  6300         4139.0       2402.0       1653.0   \n8      143526      243774  3249         7420.0       4825.0       3470.0   \n9       50823      231948  2547         9786.0       5935.0       4089.0   \n\n   3:00-4:00AM  4:00-5:00AM  5:00-6:00AM  6:00-7:00AM  ...  5:00-6:00PM  \\\n0      16516.0      21392.0      35249.0      51691.0  ...        61345   \n1       5510.0       9017.0      20986.0      27646.0  ...        39226   \n2       3686.0       3940.0       8482.0      19606.0  ...        35840   \n3       3489.0       9038.0      18549.0      21215.0  ...        19764   \n4       1729.0       2171.0       3415.0       7266.0  ...        24235   \n5       9771.0       9889.0      12735.0      16065.0  ...        11420   \n6       3776.0       4520.0       6182.0      11632.0  ...        21147   \n7       1493.0       2065.0       4629.0      10728.0  ...        22943   \n8       2893.0       2865.0       5341.0      10813.0  ...        21305   \n9       3857.0       4918.0       7016.0       9661.0  ...        20480   \n\n   6:00-7:00PM  7:00-8:00PM  8:00-9:00PM  9:00-10:00PM  10:00-11:00PM  \\\n0        62605        60161        55186         51035          45963   \n1        38360        37390        28197         23593          18365   \n2        34971        30417        25383         23374          22697   \n3        17246        15245        13433         12330           9442   \n4        24946        21374        16249         12153           9909   \n5        13491        15407        17357         17807          18249   \n6        19739        17208        15080         13401          12035   \n7        21129        16800        13312          9974           8145   \n8        20502        17551        14484         13799          12854   \n9        19212        19013        20043         17120          13893   \n\n   11:00-12:00AM  daily_total           latitude  longitude  \n0          41144    1121449.0         40.6853329 -73.980713  \n1          14810     606923.0         40.7184369 -74.000535  \n2          16875     550750.0         40.8198959 -73.930559  \n3           6427     360178.0         40.6752064 -73.862901  \n4           6276     346751.0         40.8179236 -73.856217  \n5          16750     337027.0         40.6743114 -73.801369  \n6           9598     328747.0  40.66555820000001 -73.729787  \n7           5766     318763.0  40.60907359999999 -74.151971  \n8           9651     313441.0         40.7375736 -74.009815  \n9          11372     311427.0         40.7755364 -73.991474  \n\n[10 rows x 30 columns]",
      "text/html": "<div>\n<style scoped>\n    .dataframe tbody tr th:only-of-type {\n        vertical-align: middle;\n    }\n\n    .dataframe tbody tr th {\n        vertical-align: top;\n    }\n\n    .dataframe thead th {\n        text-align: right;\n    }\n</style>\n<table border=\"1\" class=\"dataframe\">\n  <thead>\n    <tr style=\"text-align: right;\">\n      <th></th>\n      <th>Segment_ID</th>\n      <th>Unnamed: 0</th>\n      <th>ID</th>\n      <th>12:00-1:00 AM</th>\n      <th>1:00-2:00AM</th>\n      <th>2:00-3:00AM</th>\n      <th>3:00-4:00AM</th>\n      <th>4:00-5:00AM</th>\n      <th>5:00-6:00AM</th>\n      <th>6:00-7:00AM</th>\n      <th>...</th>\n      <th>5:00-6:00PM</th>\n      <th>6:00-7:00PM</th>\n      <th>7:00-8:00PM</th>\n      <th>8:00-9:00PM</th>\n      <th>9:00-10:00PM</th>\n      <th>10:00-11:00PM</th>\n      <th>11:00-12:00AM</th>\n      <th>daily_total</th>\n      <th>latitude</th>\n      <th>longitude</th>\n    </tr>\n  </thead>\n  <tbody>\n    <tr>\n      <th>0</th>\n      <td>251949</td>\n      <td>440163</td>\n      <td>3564</td>\n      <td>33759.0</td>\n      <td>22146.0</td>\n      <td>17509.0</td>\n      <td>16516.0</td>\n      <td>21392.0</td>\n      <td>35249.0</td>\n      <td>51691.0</td>\n      <td>...</td>\n      <td>61345</td>\n      <td>62605</td>\n      <td>60161</td>\n      <td>55186</td>\n      <td>51035</td>\n      <td>45963</td>\n      <td>41144</td>\n      <td>1121449.0</td>\n      <td>40.6853329</td>\n      <td>-73.980713</td>\n    </tr>\n    <tr>\n      <th>1</th>\n      <td>179513</td>\n      <td>471915</td>\n      <td>5526</td>\n      <td>9927.0</td>\n      <td>6524.0</td>\n      <td>5351.0</td>\n      <td>5510.0</td>\n      <td>9017.0</td>\n      <td>20986.0</td>\n      <td>27646.0</td>\n      <td>...</td>\n      <td>39226</td>\n      <td>38360</td>\n      <td>37390</td>\n      <td>28197</td>\n      <td>23593</td>\n      <td>18365</td>\n      <td>14810</td>\n      <td>606923.0</td>\n      <td>40.7184369</td>\n      <td>-74.000535</td>\n    </tr>\n    <tr>\n      <th>2</th>\n      <td>158938</td>\n      <td>487953</td>\n      <td>6516</td>\n      <td>11308.0</td>\n      <td>6874.0</td>\n      <td>4596.0</td>\n      <td>3686.0</td>\n      <td>3940.0</td>\n      <td>8482.0</td>\n      <td>19606.0</td>\n      <td>...</td>\n      <td>35840</td>\n      <td>34971</td>\n      <td>30417</td>\n      <td>25383</td>\n      <td>23374</td>\n      <td>22697</td>\n      <td>16875</td>\n      <td>550750.0</td>\n      <td>40.8198959</td>\n      <td>-73.930559</td>\n    </tr>\n    <tr>\n      <th>3</th>\n      <td>22924</td>\n      <td>408249</td>\n      <td>1566</td>\n      <td>4628.0</td>\n      <td>3795.0</td>\n      <td>3062.0</td>\n      <td>3489.0</td>\n      <td>9038.0</td>\n      <td>18549.0</td>\n      <td>21215.0</td>\n      <td>...</td>\n      <td>19764</td>\n      <td>17246</td>\n      <td>15245</td>\n      <td>13433</td>\n      <td>12330</td>\n      <td>9442</td>\n      <td>6427</td>\n      <td>360178.0</td>\n      <td>40.6752064</td>\n      <td>-73.862901</td>\n    </tr>\n    <tr>\n      <th>4</th>\n      <td>64059</td>\n      <td>238023</td>\n      <td>2889</td>\n      <td>3953.0</td>\n      <td>2668.0</td>\n      <td>1841.0</td>\n      <td>1729.0</td>\n      <td>2171.0</td>\n      <td>3415.0</td>\n      <td>7266.0</td>\n      <td>...</td>\n      <td>24235</td>\n      <td>24946</td>\n      <td>21374</td>\n      <td>16249</td>\n      <td>12153</td>\n      <td>9909</td>\n      <td>6276</td>\n      <td>346751.0</td>\n      <td>40.8179236</td>\n      <td>-73.856217</td>\n    </tr>\n    <tr>\n      <th>5</th>\n      <td>32329</td>\n      <td>424935</td>\n      <td>2610</td>\n      <td>15811.0</td>\n      <td>13162.0</td>\n      <td>10857.0</td>\n      <td>9771.0</td>\n      <td>9889.0</td>\n      <td>12735.0</td>\n      <td>16065.0</td>\n      <td>...</td>\n      <td>11420</td>\n      <td>13491</td>\n      <td>15407</td>\n      <td>17357</td>\n      <td>17807</td>\n      <td>18249</td>\n      <td>16750</td>\n      <td>337027.0</td>\n      <td>40.6743114</td>\n      <td>-73.801369</td>\n    </tr>\n    <tr>\n      <th>6</th>\n      <td>9009697</td>\n      <td>236808</td>\n      <td>2808</td>\n      <td>7492.0</td>\n      <td>5389.0</td>\n      <td>4188.0</td>\n      <td>3776.0</td>\n      <td>4520.0</td>\n      <td>6182.0</td>\n      <td>11632.0</td>\n      <td>...</td>\n      <td>21147</td>\n      <td>19739</td>\n      <td>17208</td>\n      <td>15080</td>\n      <td>13401</td>\n      <td>12035</td>\n      <td>9598</td>\n      <td>328747.0</td>\n      <td>40.66555820000001</td>\n      <td>-73.729787</td>\n    </tr>\n    <tr>\n      <th>7</th>\n      <td>160109</td>\n      <td>484551</td>\n      <td>6300</td>\n      <td>4139.0</td>\n      <td>2402.0</td>\n      <td>1653.0</td>\n      <td>1493.0</td>\n      <td>2065.0</td>\n      <td>4629.0</td>\n      <td>10728.0</td>\n      <td>...</td>\n      <td>22943</td>\n      <td>21129</td>\n      <td>16800</td>\n      <td>13312</td>\n      <td>9974</td>\n      <td>8145</td>\n      <td>5766</td>\n      <td>318763.0</td>\n      <td>40.60907359999999</td>\n      <td>-74.151971</td>\n    </tr>\n    <tr>\n      <th>8</th>\n      <td>143526</td>\n      <td>243774</td>\n      <td>3249</td>\n      <td>7420.0</td>\n      <td>4825.0</td>\n      <td>3470.0</td>\n      <td>2893.0</td>\n      <td>2865.0</td>\n      <td>5341.0</td>\n      <td>10813.0</td>\n      <td>...</td>\n      <td>21305</td>\n      <td>20502</td>\n      <td>17551</td>\n      <td>14484</td>\n      <td>13799</td>\n      <td>12854</td>\n      <td>9651</td>\n      <td>313441.0</td>\n      <td>40.7375736</td>\n      <td>-74.009815</td>\n    </tr>\n    <tr>\n      <th>9</th>\n      <td>50823</td>\n      <td>231948</td>\n      <td>2547</td>\n      <td>9786.0</td>\n      <td>5935.0</td>\n      <td>4089.0</td>\n      <td>3857.0</td>\n      <td>4918.0</td>\n      <td>7016.0</td>\n      <td>9661.0</td>\n      <td>...</td>\n      <td>20480</td>\n      <td>19212</td>\n      <td>19013</td>\n      <td>20043</td>\n      <td>17120</td>\n      <td>13893</td>\n      <td>11372</td>\n      <td>311427.0</td>\n      <td>40.7755364</td>\n      <td>-73.991474</td>\n    </tr>\n  </tbody>\n</table>\n<p>10 rows × 30 columns</p>\n</div>"
     },
     "metadata": {},
     "execution_count": 103
    }
   ],
   "source": [
    "tp10yrly"
   ]
  },
  {
   "cell_type": "code",
   "execution_count": 115,
   "metadata": {},
   "outputs": [
    {
     "output_type": "execute_result",
     "data": {
      "text/plain": "      Unnamed: 0   ID  Segment_ID          Roadway_Name            From  \\\n4320       25768  283       50823  South+Conduit+Avenue  Belmont+Avenue   \n4321       25769  283       50823  South+Conduit+Avenue  Belmont+Avenue   \n4322       25770  283       50823  South+Conduit+Avenue  Belmont+Avenue   \n4323       25771  283       50823  South+Conduit+Avenue  Belmont+Avenue   \n4324       25772  283       50823  South+Conduit+Avenue  Belmont+Avenue   \n4325       25773  283       50823  South+Conduit+Avenue  Belmont+Avenue   \n4326       25774  283       50823  South+Conduit+Avenue  Belmont+Avenue   \n4327       25775  283       50823  South+Conduit+Avenue  Belmont+Avenue   \n4328       25776  283       50823  South+Conduit+Avenue  Belmont+Avenue   \n\n               To Direction       Date  12:00-1:00 AM  1:00-2:00AM  ...  \\\n4320  Eldert+Lane        EB  9/28/2019         1810.0       1073.0  ...   \n4321  Eldert+Lane        EB  9/29/2019          988.0        762.0  ...   \n4322  Eldert+Lane        EB  9/30/2019          824.0        510.0  ...   \n4323  Eldert+Lane        EB  10/1/2019          854.0        456.0  ...   \n4324  Eldert+Lane        EB  10/2/2019          872.0        474.0  ...   \n4325  Eldert+Lane        EB  10/3/2019          832.0        435.0  ...   \n4326  Eldert+Lane        EB  10/4/2019          751.0        415.0  ...   \n4327  Eldert+Lane        EB  10/5/2019         1870.0       1084.0  ...   \n4328  Eldert+Lane        EB  10/6/2019          985.0        726.0  ...   \n\n      9:00-10:00PM  10:00-11:00PM  11:00-12:00AM    latitude  longitude  \\\n4320          2341           1538           1459  40.6752064 -73.862901   \n4321          1697           1432           1015  40.6752064 -73.862901   \n4322          1573           1280            949  40.6752064 -73.862901   \n4323          1999           1579           1177  40.6752064 -73.862901   \n4324          2031           1560           1166  40.6752064 -73.862901   \n4325          1965           1596           1187  40.6752064 -73.862901   \n4326          1806           1902           1991  40.6752064 -73.862901   \n4327          2110           1608           1414  40.6752064 -73.862901   \n4328          1598           1398           1014  40.6752064 -73.862901   \n\n      Month  Day  Year                         Intersection  daily_total  \n4320      9   28  2019  South+Conduit+Avenue+Belmont+Avenue      33156.0  \n4321      9   29  2019  South+Conduit+Avenue+Belmont+Avenue      30422.0  \n4322      9   30  2019  South+Conduit+Avenue+Belmont+Avenue      32606.0  \n4323     10    1  2019  South+Conduit+Avenue+Belmont+Avenue      37864.0  \n4324     10    2  2019  South+Conduit+Avenue+Belmont+Avenue      38130.0  \n4325     10    3  2019  South+Conduit+Avenue+Belmont+Avenue      37551.0  \n4326     10    4  2019  South+Conduit+Avenue+Belmont+Avenue      38172.0  \n4327     10    5  2019  South+Conduit+Avenue+Belmont+Avenue      33041.0  \n4328     10    6  2019  South+Conduit+Avenue+Belmont+Avenue      30485.0  \n\n[9 rows x 39 columns]",
      "text/html": "<div>\n<style scoped>\n    .dataframe tbody tr th:only-of-type {\n        vertical-align: middle;\n    }\n\n    .dataframe tbody tr th {\n        vertical-align: top;\n    }\n\n    .dataframe thead th {\n        text-align: right;\n    }\n</style>\n<table border=\"1\" class=\"dataframe\">\n  <thead>\n    <tr style=\"text-align: right;\">\n      <th></th>\n      <th>Unnamed: 0</th>\n      <th>ID</th>\n      <th>Segment_ID</th>\n      <th>Roadway_Name</th>\n      <th>From</th>\n      <th>To</th>\n      <th>Direction</th>\n      <th>Date</th>\n      <th>12:00-1:00 AM</th>\n      <th>1:00-2:00AM</th>\n      <th>...</th>\n      <th>9:00-10:00PM</th>\n      <th>10:00-11:00PM</th>\n      <th>11:00-12:00AM</th>\n      <th>latitude</th>\n      <th>longitude</th>\n      <th>Month</th>\n      <th>Day</th>\n      <th>Year</th>\n      <th>Intersection</th>\n      <th>daily_total</th>\n    </tr>\n  </thead>\n  <tbody>\n    <tr>\n      <th>4320</th>\n      <td>25768</td>\n      <td>283</td>\n      <td>50823</td>\n      <td>South+Conduit+Avenue</td>\n      <td>Belmont+Avenue</td>\n      <td>Eldert+Lane</td>\n      <td>EB</td>\n      <td>9/28/2019</td>\n      <td>1810.0</td>\n      <td>1073.0</td>\n      <td>...</td>\n      <td>2341</td>\n      <td>1538</td>\n      <td>1459</td>\n      <td>40.6752064</td>\n      <td>-73.862901</td>\n      <td>9</td>\n      <td>28</td>\n      <td>2019</td>\n      <td>South+Conduit+Avenue+Belmont+Avenue</td>\n      <td>33156.0</td>\n    </tr>\n    <tr>\n      <th>4321</th>\n      <td>25769</td>\n      <td>283</td>\n      <td>50823</td>\n      <td>South+Conduit+Avenue</td>\n      <td>Belmont+Avenue</td>\n      <td>Eldert+Lane</td>\n      <td>EB</td>\n      <td>9/29/2019</td>\n      <td>988.0</td>\n      <td>762.0</td>\n      <td>...</td>\n      <td>1697</td>\n      <td>1432</td>\n      <td>1015</td>\n      <td>40.6752064</td>\n      <td>-73.862901</td>\n      <td>9</td>\n      <td>29</td>\n      <td>2019</td>\n      <td>South+Conduit+Avenue+Belmont+Avenue</td>\n      <td>30422.0</td>\n    </tr>\n    <tr>\n      <th>4322</th>\n      <td>25770</td>\n      <td>283</td>\n      <td>50823</td>\n      <td>South+Conduit+Avenue</td>\n      <td>Belmont+Avenue</td>\n      <td>Eldert+Lane</td>\n      <td>EB</td>\n      <td>9/30/2019</td>\n      <td>824.0</td>\n      <td>510.0</td>\n      <td>...</td>\n      <td>1573</td>\n      <td>1280</td>\n      <td>949</td>\n      <td>40.6752064</td>\n      <td>-73.862901</td>\n      <td>9</td>\n      <td>30</td>\n      <td>2019</td>\n      <td>South+Conduit+Avenue+Belmont+Avenue</td>\n      <td>32606.0</td>\n    </tr>\n    <tr>\n      <th>4323</th>\n      <td>25771</td>\n      <td>283</td>\n      <td>50823</td>\n      <td>South+Conduit+Avenue</td>\n      <td>Belmont+Avenue</td>\n      <td>Eldert+Lane</td>\n      <td>EB</td>\n      <td>10/1/2019</td>\n      <td>854.0</td>\n      <td>456.0</td>\n      <td>...</td>\n      <td>1999</td>\n      <td>1579</td>\n      <td>1177</td>\n      <td>40.6752064</td>\n      <td>-73.862901</td>\n      <td>10</td>\n      <td>1</td>\n      <td>2019</td>\n      <td>South+Conduit+Avenue+Belmont+Avenue</td>\n      <td>37864.0</td>\n    </tr>\n    <tr>\n      <th>4324</th>\n      <td>25772</td>\n      <td>283</td>\n      <td>50823</td>\n      <td>South+Conduit+Avenue</td>\n      <td>Belmont+Avenue</td>\n      <td>Eldert+Lane</td>\n      <td>EB</td>\n      <td>10/2/2019</td>\n      <td>872.0</td>\n      <td>474.0</td>\n      <td>...</td>\n      <td>2031</td>\n      <td>1560</td>\n      <td>1166</td>\n      <td>40.6752064</td>\n      <td>-73.862901</td>\n      <td>10</td>\n      <td>2</td>\n      <td>2019</td>\n      <td>South+Conduit+Avenue+Belmont+Avenue</td>\n      <td>38130.0</td>\n    </tr>\n    <tr>\n      <th>4325</th>\n      <td>25773</td>\n      <td>283</td>\n      <td>50823</td>\n      <td>South+Conduit+Avenue</td>\n      <td>Belmont+Avenue</td>\n      <td>Eldert+Lane</td>\n      <td>EB</td>\n      <td>10/3/2019</td>\n      <td>832.0</td>\n      <td>435.0</td>\n      <td>...</td>\n      <td>1965</td>\n      <td>1596</td>\n      <td>1187</td>\n      <td>40.6752064</td>\n      <td>-73.862901</td>\n      <td>10</td>\n      <td>3</td>\n      <td>2019</td>\n      <td>South+Conduit+Avenue+Belmont+Avenue</td>\n      <td>37551.0</td>\n    </tr>\n    <tr>\n      <th>4326</th>\n      <td>25774</td>\n      <td>283</td>\n      <td>50823</td>\n      <td>South+Conduit+Avenue</td>\n      <td>Belmont+Avenue</td>\n      <td>Eldert+Lane</td>\n      <td>EB</td>\n      <td>10/4/2019</td>\n      <td>751.0</td>\n      <td>415.0</td>\n      <td>...</td>\n      <td>1806</td>\n      <td>1902</td>\n      <td>1991</td>\n      <td>40.6752064</td>\n      <td>-73.862901</td>\n      <td>10</td>\n      <td>4</td>\n      <td>2019</td>\n      <td>South+Conduit+Avenue+Belmont+Avenue</td>\n      <td>38172.0</td>\n    </tr>\n    <tr>\n      <th>4327</th>\n      <td>25775</td>\n      <td>283</td>\n      <td>50823</td>\n      <td>South+Conduit+Avenue</td>\n      <td>Belmont+Avenue</td>\n      <td>Eldert+Lane</td>\n      <td>EB</td>\n      <td>10/5/2019</td>\n      <td>1870.0</td>\n      <td>1084.0</td>\n      <td>...</td>\n      <td>2110</td>\n      <td>1608</td>\n      <td>1414</td>\n      <td>40.6752064</td>\n      <td>-73.862901</td>\n      <td>10</td>\n      <td>5</td>\n      <td>2019</td>\n      <td>South+Conduit+Avenue+Belmont+Avenue</td>\n      <td>33041.0</td>\n    </tr>\n    <tr>\n      <th>4328</th>\n      <td>25776</td>\n      <td>283</td>\n      <td>50823</td>\n      <td>South+Conduit+Avenue</td>\n      <td>Belmont+Avenue</td>\n      <td>Eldert+Lane</td>\n      <td>EB</td>\n      <td>10/6/2019</td>\n      <td>985.0</td>\n      <td>726.0</td>\n      <td>...</td>\n      <td>1598</td>\n      <td>1398</td>\n      <td>1014</td>\n      <td>40.6752064</td>\n      <td>-73.862901</td>\n      <td>10</td>\n      <td>6</td>\n      <td>2019</td>\n      <td>South+Conduit+Avenue+Belmont+Avenue</td>\n      <td>30485.0</td>\n    </tr>\n  </tbody>\n</table>\n<p>9 rows × 39 columns</p>\n</div>"
     },
     "metadata": {},
     "execution_count": 115
    }
   ],
   "source": [
    "df_filt.loc[df_filt[\"Segment_ID\"]==50823]"
   ]
  },
  {
   "cell_type": "code",
   "execution_count": null,
   "metadata": {},
   "outputs": [],
   "source": [
    "[251949, 179513, 158938, 22924, 64059, 32329, 9009697, 160109, 143526, 50823]"
   ]
  },
  {
   "cell_type": "code",
   "execution_count": 116,
   "metadata": {},
   "outputs": [],
   "source": [
    "segment = [251949, 179513, 158938, 22924, 64059, 32329, 9009697, 160109, 143526, 50823]\n",
    "latitude = [40.8198959, 40.8179236, 40.7755364, 40.6853329, 40.66555820000001, \t40.7184369, 40.6743114, 40.60907359999999, 40.7375736, 40.6752064]\n",
    "longitude = [-73.930559, -73.856217, -73.991474, -73.980713, -73.729787, -74.000535, \t-73.801369, 40.60907359999999, \t-74.009815, -73.862901]"
   ]
  },
  {
   "cell_type": "code",
   "execution_count": 117,
   "metadata": {},
   "outputs": [],
   "source": [
    "tp10yrly[\"latitude\"] = latitude"
   ]
  },
  {
   "cell_type": "code",
   "execution_count": 118,
   "metadata": {},
   "outputs": [],
   "source": [
    "tp10yrly['longitude'] = longitude"
   ]
  },
  {
   "cell_type": "code",
   "execution_count": 119,
   "metadata": {},
   "outputs": [
    {
     "output_type": "execute_result",
     "data": {
      "text/plain": "   Segment_ID  Unnamed: 0    ID  12:00-1:00 AM  1:00-2:00AM  2:00-3:00AM  \\\n0      251949      440163  3564        33759.0      22146.0      17509.0   \n1      179513      471915  5526         9927.0       6524.0       5351.0   \n2      158938      487953  6516        11308.0       6874.0       4596.0   \n3       22924      408249  1566         4628.0       3795.0       3062.0   \n4       64059      238023  2889         3953.0       2668.0       1841.0   \n5       32329      424935  2610        15811.0      13162.0      10857.0   \n6     9009697      236808  2808         7492.0       5389.0       4188.0   \n7      160109      484551  6300         4139.0       2402.0       1653.0   \n8      143526      243774  3249         7420.0       4825.0       3470.0   \n9       50823      231948  2547         9786.0       5935.0       4089.0   \n\n   3:00-4:00AM  4:00-5:00AM  5:00-6:00AM  6:00-7:00AM  ...  5:00-6:00PM  \\\n0      16516.0      21392.0      35249.0      51691.0  ...        61345   \n1       5510.0       9017.0      20986.0      27646.0  ...        39226   \n2       3686.0       3940.0       8482.0      19606.0  ...        35840   \n3       3489.0       9038.0      18549.0      21215.0  ...        19764   \n4       1729.0       2171.0       3415.0       7266.0  ...        24235   \n5       9771.0       9889.0      12735.0      16065.0  ...        11420   \n6       3776.0       4520.0       6182.0      11632.0  ...        21147   \n7       1493.0       2065.0       4629.0      10728.0  ...        22943   \n8       2893.0       2865.0       5341.0      10813.0  ...        21305   \n9       3857.0       4918.0       7016.0       9661.0  ...        20480   \n\n   6:00-7:00PM  7:00-8:00PM  8:00-9:00PM  9:00-10:00PM  10:00-11:00PM  \\\n0        62605        60161        55186         51035          45963   \n1        38360        37390        28197         23593          18365   \n2        34971        30417        25383         23374          22697   \n3        17246        15245        13433         12330           9442   \n4        24946        21374        16249         12153           9909   \n5        13491        15407        17357         17807          18249   \n6        19739        17208        15080         13401          12035   \n7        21129        16800        13312          9974           8145   \n8        20502        17551        14484         13799          12854   \n9        19212        19013        20043         17120          13893   \n\n   11:00-12:00AM  daily_total   latitude  longitude  \n0          41144    1121449.0  40.819896 -73.930559  \n1          14810     606923.0  40.817924 -73.856217  \n2          16875     550750.0  40.775536 -73.991474  \n3           6427     360178.0  40.685333 -73.980713  \n4           6276     346751.0  40.665558 -73.729787  \n5          16750     337027.0  40.718437 -74.000535  \n6           9598     328747.0  40.674311 -73.801369  \n7           5766     318763.0  40.609074  40.609074  \n8           9651     313441.0  40.737574 -74.009815  \n9          11372     311427.0  40.675206 -73.862901  \n\n[10 rows x 30 columns]",
      "text/html": "<div>\n<style scoped>\n    .dataframe tbody tr th:only-of-type {\n        vertical-align: middle;\n    }\n\n    .dataframe tbody tr th {\n        vertical-align: top;\n    }\n\n    .dataframe thead th {\n        text-align: right;\n    }\n</style>\n<table border=\"1\" class=\"dataframe\">\n  <thead>\n    <tr style=\"text-align: right;\">\n      <th></th>\n      <th>Segment_ID</th>\n      <th>Unnamed: 0</th>\n      <th>ID</th>\n      <th>12:00-1:00 AM</th>\n      <th>1:00-2:00AM</th>\n      <th>2:00-3:00AM</th>\n      <th>3:00-4:00AM</th>\n      <th>4:00-5:00AM</th>\n      <th>5:00-6:00AM</th>\n      <th>6:00-7:00AM</th>\n      <th>...</th>\n      <th>5:00-6:00PM</th>\n      <th>6:00-7:00PM</th>\n      <th>7:00-8:00PM</th>\n      <th>8:00-9:00PM</th>\n      <th>9:00-10:00PM</th>\n      <th>10:00-11:00PM</th>\n      <th>11:00-12:00AM</th>\n      <th>daily_total</th>\n      <th>latitude</th>\n      <th>longitude</th>\n    </tr>\n  </thead>\n  <tbody>\n    <tr>\n      <th>0</th>\n      <td>251949</td>\n      <td>440163</td>\n      <td>3564</td>\n      <td>33759.0</td>\n      <td>22146.0</td>\n      <td>17509.0</td>\n      <td>16516.0</td>\n      <td>21392.0</td>\n      <td>35249.0</td>\n      <td>51691.0</td>\n      <td>...</td>\n      <td>61345</td>\n      <td>62605</td>\n      <td>60161</td>\n      <td>55186</td>\n      <td>51035</td>\n      <td>45963</td>\n      <td>41144</td>\n      <td>1121449.0</td>\n      <td>40.819896</td>\n      <td>-73.930559</td>\n    </tr>\n    <tr>\n      <th>1</th>\n      <td>179513</td>\n      <td>471915</td>\n      <td>5526</td>\n      <td>9927.0</td>\n      <td>6524.0</td>\n      <td>5351.0</td>\n      <td>5510.0</td>\n      <td>9017.0</td>\n      <td>20986.0</td>\n      <td>27646.0</td>\n      <td>...</td>\n      <td>39226</td>\n      <td>38360</td>\n      <td>37390</td>\n      <td>28197</td>\n      <td>23593</td>\n      <td>18365</td>\n      <td>14810</td>\n      <td>606923.0</td>\n      <td>40.817924</td>\n      <td>-73.856217</td>\n    </tr>\n    <tr>\n      <th>2</th>\n      <td>158938</td>\n      <td>487953</td>\n      <td>6516</td>\n      <td>11308.0</td>\n      <td>6874.0</td>\n      <td>4596.0</td>\n      <td>3686.0</td>\n      <td>3940.0</td>\n      <td>8482.0</td>\n      <td>19606.0</td>\n      <td>...</td>\n      <td>35840</td>\n      <td>34971</td>\n      <td>30417</td>\n      <td>25383</td>\n      <td>23374</td>\n      <td>22697</td>\n      <td>16875</td>\n      <td>550750.0</td>\n      <td>40.775536</td>\n      <td>-73.991474</td>\n    </tr>\n    <tr>\n      <th>3</th>\n      <td>22924</td>\n      <td>408249</td>\n      <td>1566</td>\n      <td>4628.0</td>\n      <td>3795.0</td>\n      <td>3062.0</td>\n      <td>3489.0</td>\n      <td>9038.0</td>\n      <td>18549.0</td>\n      <td>21215.0</td>\n      <td>...</td>\n      <td>19764</td>\n      <td>17246</td>\n      <td>15245</td>\n      <td>13433</td>\n      <td>12330</td>\n      <td>9442</td>\n      <td>6427</td>\n      <td>360178.0</td>\n      <td>40.685333</td>\n      <td>-73.980713</td>\n    </tr>\n    <tr>\n      <th>4</th>\n      <td>64059</td>\n      <td>238023</td>\n      <td>2889</td>\n      <td>3953.0</td>\n      <td>2668.0</td>\n      <td>1841.0</td>\n      <td>1729.0</td>\n      <td>2171.0</td>\n      <td>3415.0</td>\n      <td>7266.0</td>\n      <td>...</td>\n      <td>24235</td>\n      <td>24946</td>\n      <td>21374</td>\n      <td>16249</td>\n      <td>12153</td>\n      <td>9909</td>\n      <td>6276</td>\n      <td>346751.0</td>\n      <td>40.665558</td>\n      <td>-73.729787</td>\n    </tr>\n    <tr>\n      <th>5</th>\n      <td>32329</td>\n      <td>424935</td>\n      <td>2610</td>\n      <td>15811.0</td>\n      <td>13162.0</td>\n      <td>10857.0</td>\n      <td>9771.0</td>\n      <td>9889.0</td>\n      <td>12735.0</td>\n      <td>16065.0</td>\n      <td>...</td>\n      <td>11420</td>\n      <td>13491</td>\n      <td>15407</td>\n      <td>17357</td>\n      <td>17807</td>\n      <td>18249</td>\n      <td>16750</td>\n      <td>337027.0</td>\n      <td>40.718437</td>\n      <td>-74.000535</td>\n    </tr>\n    <tr>\n      <th>6</th>\n      <td>9009697</td>\n      <td>236808</td>\n      <td>2808</td>\n      <td>7492.0</td>\n      <td>5389.0</td>\n      <td>4188.0</td>\n      <td>3776.0</td>\n      <td>4520.0</td>\n      <td>6182.0</td>\n      <td>11632.0</td>\n      <td>...</td>\n      <td>21147</td>\n      <td>19739</td>\n      <td>17208</td>\n      <td>15080</td>\n      <td>13401</td>\n      <td>12035</td>\n      <td>9598</td>\n      <td>328747.0</td>\n      <td>40.674311</td>\n      <td>-73.801369</td>\n    </tr>\n    <tr>\n      <th>7</th>\n      <td>160109</td>\n      <td>484551</td>\n      <td>6300</td>\n      <td>4139.0</td>\n      <td>2402.0</td>\n      <td>1653.0</td>\n      <td>1493.0</td>\n      <td>2065.0</td>\n      <td>4629.0</td>\n      <td>10728.0</td>\n      <td>...</td>\n      <td>22943</td>\n      <td>21129</td>\n      <td>16800</td>\n      <td>13312</td>\n      <td>9974</td>\n      <td>8145</td>\n      <td>5766</td>\n      <td>318763.0</td>\n      <td>40.609074</td>\n      <td>40.609074</td>\n    </tr>\n    <tr>\n      <th>8</th>\n      <td>143526</td>\n      <td>243774</td>\n      <td>3249</td>\n      <td>7420.0</td>\n      <td>4825.0</td>\n      <td>3470.0</td>\n      <td>2893.0</td>\n      <td>2865.0</td>\n      <td>5341.0</td>\n      <td>10813.0</td>\n      <td>...</td>\n      <td>21305</td>\n      <td>20502</td>\n      <td>17551</td>\n      <td>14484</td>\n      <td>13799</td>\n      <td>12854</td>\n      <td>9651</td>\n      <td>313441.0</td>\n      <td>40.737574</td>\n      <td>-74.009815</td>\n    </tr>\n    <tr>\n      <th>9</th>\n      <td>50823</td>\n      <td>231948</td>\n      <td>2547</td>\n      <td>9786.0</td>\n      <td>5935.0</td>\n      <td>4089.0</td>\n      <td>3857.0</td>\n      <td>4918.0</td>\n      <td>7016.0</td>\n      <td>9661.0</td>\n      <td>...</td>\n      <td>20480</td>\n      <td>19212</td>\n      <td>19013</td>\n      <td>20043</td>\n      <td>17120</td>\n      <td>13893</td>\n      <td>11372</td>\n      <td>311427.0</td>\n      <td>40.675206</td>\n      <td>-73.862901</td>\n    </tr>\n  </tbody>\n</table>\n<p>10 rows × 30 columns</p>\n</div>"
     },
     "metadata": {},
     "execution_count": 119
    }
   ],
   "source": [
    "#contains the top 10 most trafficked intersections in NYC with yearly_totals \n",
    "tp10yrly"
   ]
  },
  {
   "cell_type": "code",
   "execution_count": 120,
   "metadata": {},
   "outputs": [
    {
     "output_type": "execute_result",
     "data": {
      "text/plain": "Index(['Segment_ID', 'Unnamed: 0', 'ID', '12:00-1:00 AM', '1:00-2:00AM',\n       '2:00-3:00AM', '3:00-4:00AM', '4:00-5:00AM', '5:00-6:00AM',\n       '6:00-7:00AM', '7:00-8:00AM', '8:00-9:00AM', '9:00-10:00AM',\n       '10:00-11:00AM', '11:00-12:00PM', '12:00-1:00PM', '1:00-2:00PM',\n       '2:00-3:00PM', '3:00-4:00PM', '4:00-5:00PM', '5:00-6:00PM',\n       '6:00-7:00PM', '7:00-8:00PM', '8:00-9:00PM', '9:00-10:00PM',\n       '10:00-11:00PM', '11:00-12:00AM', 'daily_total', 'latitude',\n       'longitude'],\n      dtype='object')"
     },
     "metadata": {},
     "execution_count": 120
    }
   ],
   "source": [
    "tp10yrly.columns"
   ]
  },
  {
   "cell_type": "code",
   "execution_count": 124,
   "metadata": {},
   "outputs": [],
   "source": [
    "tp10clean = tp10yrly.drop(tp10yrly.columns[range(3,26)], axis =1)"
   ]
  },
  {
   "cell_type": "code",
   "execution_count": 125,
   "metadata": {},
   "outputs": [
    {
     "output_type": "execute_result",
     "data": {
      "text/plain": "Index(['Segment_ID', 'Unnamed: 0', 'ID', '11:00-12:00AM', 'daily_total',\n       'latitude', 'longitude'],\n      dtype='object')"
     },
     "metadata": {},
     "execution_count": 125
    }
   ],
   "source": [
    "tp10clean.columns"
   ]
  },
  {
   "cell_type": "code",
   "execution_count": 128,
   "metadata": {},
   "outputs": [],
   "source": [
    "tp10clean.drop('11:00-12:00AM', axis=1, inplace=True)"
   ]
  },
  {
   "cell_type": "code",
   "execution_count": 131,
   "metadata": {},
   "outputs": [],
   "source": [
    "tp10clean.rename(columns={\"daily_total\" : \"yearly_total\"}, inplace=True)"
   ]
  },
  {
   "cell_type": "code",
   "execution_count": 148,
   "metadata": {},
   "outputs": [],
   "source": [
    "tp10clean.drop(\"Unnamed: 0\", axis=1, inplace=True)"
   ]
  },
  {
   "cell_type": "code",
   "execution_count": 150,
   "metadata": {},
   "outputs": [],
   "source": [
    "#Clean the dataframe and format for loading into sqlite database \n",
    "tp10clean.drop(\"ID\", axis=1, inplace=True)"
   ]
  },
  {
   "cell_type": "code",
   "execution_count": 138,
   "metadata": {
    "tags": []
   },
   "outputs": [
    {
     "output_type": "stream",
     "name": "stdout",
     "text": "Requirement already satisfied: geopandas in c:\\users\\ymoxl\\anaconda3\\lib\\site-packages (0.8.1)\nRequirement already satisfied: pyproj>=2.2.0 in c:\\users\\ymoxl\\anaconda3\\lib\\site-packages (from geopandas) (2.6.1.post1)\nRequirement already satisfied: fiona in c:\\users\\ymoxl\\anaconda3\\lib\\site-packages (from geopandas) (1.8.16)\nRequirement already satisfied: shapely in c:\\users\\ymoxl\\anaconda3\\lib\\site-packages (from geopandas) (1.7.1)\nRequirement already satisfied: pandas>=0.23.0 in c:\\users\\ymoxl\\anaconda3\\lib\\site-packages (from geopandas) (1.1.2)\nRequirement already satisfied: click-plugins>=1.0 in c:\\users\\ymoxl\\anaconda3\\lib\\site-packages (from fiona->geopandas) (1.1.1)\nRequirement already satisfied: six>=1.7 in c:\\users\\ymoxl\\anaconda3\\lib\\site-packages (from fiona->geopandas) (1.15.0)\nRequirement already satisfied: attrs>=17 in c:\\users\\ymoxl\\anaconda3\\lib\\site-packages (from fiona->geopandas) (19.3.0)\nRequirement already satisfied: cligj>=0.5 in c:\\users\\ymoxl\\anaconda3\\lib\\site-packages (from fiona->geopandas) (0.5.0)\nRequirement already satisfied: munch in c:\\users\\ymoxl\\anaconda3\\lib\\site-packages (from fiona->geopandas) (2.5.0)\nRequirement already satisfied: gdal~=3.1.2 in c:\\users\\ymoxl\\anaconda3\\lib\\site-packages (from fiona->geopandas) (3.1.3)\nRequirement already satisfied: click>=4.0 in c:\\users\\ymoxl\\anaconda3\\lib\\site-packages (from fiona->geopandas) (7.0)\nRequirement already satisfied: python-dateutil>=2.7.3 in c:\\users\\ymoxl\\anaconda3\\lib\\site-packages (from pandas>=0.23.0->geopandas) (2.8.1)\nRequirement already satisfied: numpy>=1.15.4 in c:\\users\\ymoxl\\anaconda3\\lib\\site-packages (from pandas>=0.23.0->geopandas) (1.19.1+mkl)\nRequirement already satisfied: pytz>=2017.2 in c:\\users\\ymoxl\\anaconda3\\lib\\site-packages (from pandas>=0.23.0->geopandas) (2019.3)\n"
    }
   ],
   "source": [
    "!pip install geopandas"
   ]
  },
  {
   "cell_type": "code",
   "execution_count": 147,
   "metadata": {},
   "outputs": [],
   "source": [
    "import shapely"
   ]
  },
  {
   "cell_type": "code",
   "execution_count": null,
   "metadata": {},
   "outputs": [],
   "source": []
  }
 ]
}